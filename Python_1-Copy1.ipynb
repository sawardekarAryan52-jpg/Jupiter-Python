{
 "cells": [
  {
   "cell_type": "markdown",
   "id": "52b0b805-b9f8-45e8-994a-a02d21f17c05",
   "metadata": {},
   "source": [
    "# This is a day 1 of python\n",
    "## This is a comment info "
   ]
  },
  {
   "cell_type": "code",
   "execution_count": null,
   "id": "4aa11dce-9c92-4ca8-8c1d-7e5fec56a2da",
   "metadata": {},
   "outputs": [],
   "source": []
  },
  {
   "cell_type": "code",
   "execution_count": 3,
   "id": "fb09734b-ae70-4741-b323-8b27db58ecf0",
   "metadata": {},
   "outputs": [
    {
     "name": "stdout",
     "output_type": "stream",
     "text": [
      "Hello World!\n"
     ]
    }
   ],
   "source": [
    "print (\"Hello World!\")"
   ]
  },
  {
   "cell_type": "code",
   "execution_count": 13,
   "id": "6c181268-4554-4211-b68a-1cb46e4c4d49",
   "metadata": {},
   "outputs": [
    {
     "name": "stdout",
     "output_type": "stream",
     "text": [
      "Aryan\n",
      "Sawardekar\n",
      "name\n"
     ]
    }
   ],
   "source": [
    "name = \"Aryan\"\n",
    "print(name)\n",
    "lastname = \"Sawardekar\"\n",
    "print(lastname)\n",
    "\n",
    "print(\"name\")"
   ]
  },
  {
   "cell_type": "code",
   "execution_count": 14,
   "id": "4da9b09a-5cf5-4fa5-aabd-79c56393bb54",
   "metadata": {},
   "outputs": [
    {
     "name": "stdout",
     "output_type": "stream",
     "text": [
      "10\n"
     ]
    }
   ],
   "source": [
    "num1 = 10\n",
    "print(num1)\n",
    "print(num) #this is an interpreted error."
   ]
  },
  {
   "cell_type": "code",
   "execution_count": 19,
   "id": "8aa2b64e-04c0-4bf9-8aec-30775647946c",
   "metadata": {},
   "outputs": [
    {
     "name": "stdout",
     "output_type": "stream",
     "text": [
      "25 30\n",
      "30\n",
      "45\n"
     ]
    }
   ],
   "source": [
    "num_2 = 25\n",
    "print(num_2, num_3)\n",
    "num_3 = 30\n",
    "print(num_3)\n",
    "num_4 = 45\n",
    "print(num_4)\n"
   ]
  },
  {
   "cell_type": "code",
   "execution_count": 20,
   "id": "e4757d24-a61c-427d-aad3-cc35eb90f3a1",
   "metadata": {},
   "outputs": [
    {
     "name": "stdout",
     "output_type": "stream",
     "text": [
      "Aryan\n"
     ]
    }
   ],
   "source": [
    "name = \"Aryan\"\n",
    "print(name) #No special characters to be used."
   ]
  },
  {
   "cell_type": "code",
   "execution_count": 2,
   "id": "ab854b0a-fa6b-4121-a3a4-259a7395b3f7",
   "metadata": {},
   "outputs": [
    {
     "name": "stdout",
     "output_type": "stream",
     "text": [
      "Aryan\n",
      "Ayushi\n"
     ]
    }
   ],
   "source": [
    "firstname = \"Aryan\"\n",
    "Firstname = \"Ayushi\"\n",
    "print(firstname)\n",
    "print(Firstname)"
   ]
  },
  {
   "cell_type": "code",
   "execution_count": 28,
   "id": "87852b2a-bd53-4fdc-9890-4a0896ee20d9",
   "metadata": {},
   "outputs": [
    {
     "name": "stdout",
     "output_type": "stream",
     "text": [
      "123\n"
     ]
    }
   ],
   "source": [
    "true = 123\n",
    "print(true) #NO use of in-built keywords"
   ]
  },
  {
   "cell_type": "code",
   "execution_count": null,
   "id": "f3e887ba-de23-42c4-a6b5-22608556c719",
   "metadata": {},
   "outputs": [],
   "source": [
    "# Implicit & Explicit\n",
    "\n",
    "# Implicit: understand the datatype itself\n",
    "# Explicit: User tells what type of data it is\n"
   ]
  },
  {
   "cell_type": "code",
   "execution_count": 29,
   "id": "1b55e3e5-ca41-4f92-9798-907571d87edf",
   "metadata": {},
   "outputs": [
    {
     "data": {
      "text/plain": [
       "float"
      ]
     },
     "execution_count": 29,
     "metadata": {},
     "output_type": "execute_result"
    }
   ],
   "source": [
    "a = 12345.6789\n",
    "type(a)\n"
   ]
  },
  {
   "cell_type": "code",
   "execution_count": 30,
   "id": "d401bb8f-c3fa-4f41-8944-05b6161d1544",
   "metadata": {},
   "outputs": [
    {
     "name": "stdout",
     "output_type": "stream",
     "text": [
      "<class 'int'>\n"
     ]
    }
   ],
   "source": [
    "b = 123\n",
    "type(b)\n",
    "print(type(b))"
   ]
  },
  {
   "cell_type": "code",
   "execution_count": 32,
   "id": "081de754-a19b-4ae5-8c0a-aee324b02075",
   "metadata": {},
   "outputs": [
    {
     "name": "stdout",
     "output_type": "stream",
     "text": [
      "<class 'str'>\n",
      "hello\n"
     ]
    }
   ],
   "source": [
    "c = \"hello\"\n",
    "print(type(c))\n",
    "print(c)"
   ]
  },
  {
   "cell_type": "code",
   "execution_count": 33,
   "id": "8c16ca94-ce09-480c-8218-8c7d86e68fca",
   "metadata": {},
   "outputs": [
    {
     "name": "stdout",
     "output_type": "stream",
     "text": [
      "1234\n"
     ]
    }
   ],
   "source": [
    "d = 1234.567\n",
    "e = int(d)\n",
    "type(e)\n",
    "print(e)"
   ]
  },
  {
   "cell_type": "code",
   "execution_count": 38,
   "id": "5de36df7-488c-4a85-9053-38d46c9d85bf",
   "metadata": {},
   "outputs": [
    {
     "name": "stdout",
     "output_type": "stream",
     "text": [
      "234.0\n"
     ]
    }
   ],
   "source": [
    "q = \"234\"\n",
    "w = float(q)\n",
    "print(w)"
   ]
  },
  {
   "cell_type": "code",
   "execution_count": null,
   "id": "6bb2ae90-cc1c-45ba-b670-8961cad43e77",
   "metadata": {},
   "outputs": [],
   "source": [
    "#BUILT-IN FUNCTIONS\n",
    "## In python there are some pre-defined code logics to perform some specific task."
   ]
  },
  {
   "cell_type": "code",
   "execution_count": 1,
   "id": "3f6aa588-97a7-413c-83ee-9913aeaa3966",
   "metadata": {},
   "outputs": [
    {
     "name": "stdout",
     "output_type": "stream",
     "text": [
      "Aryan\n"
     ]
    }
   ],
   "source": [
    "#Print \n",
    "\n",
    "a = \"Aryan\"\n",
    "print(a)"
   ]
  },
  {
   "cell_type": "code",
   "execution_count": 3,
   "id": "24bec187-a0d8-4308-b00b-1811d5d19b7a",
   "metadata": {},
   "outputs": [
    {
     "name": "stdout",
     "output_type": "stream",
     "text": [
      "9\n",
      "The ans is 9\n"
     ]
    }
   ],
   "source": [
    "print(8+1)\n",
    "print(\"The ans is\",8+1)"
   ]
  },
  {
   "cell_type": "code",
   "execution_count": 17,
   "id": "3169d84f-45ea-4854-8e2d-ff2304640c6e",
   "metadata": {},
   "outputs": [
    {
     "data": {
      "text/plain": [
       "dict"
      ]
     },
     "execution_count": 17,
     "metadata": {},
     "output_type": "execute_result"
    }
   ],
   "source": [
    "#Type - Helps understand nature of data.\n",
    "\n",
    "new = {\"Aryan\"}\n",
    "type(new)\n",
    "new1 = {\"city\":\"Bombay\"}\n",
    "type(new1)"
   ]
  },
  {
   "cell_type": "code",
   "execution_count": 9,
   "id": "ad591785-511e-43ad-b7ea-dd2fae49899b",
   "metadata": {},
   "outputs": [
    {
     "data": {
      "text/plain": [
       "complex"
      ]
     },
     "execution_count": 9,
     "metadata": {},
     "output_type": "execute_result"
    }
   ],
   "source": [
    "type(10+9j)"
   ]
  },
  {
   "cell_type": "code",
   "execution_count": 11,
   "id": "5f8a0099-0396-4ef1-a3c8-f87a052746e7",
   "metadata": {},
   "outputs": [
    {
     "data": {
      "text/plain": [
       "5"
      ]
     },
     "execution_count": 11,
     "metadata": {},
     "output_type": "execute_result"
    }
   ],
   "source": [
    "#LENGTH - Helps to understand number of characters. Doesn't work for none, type, bool, numeric datatypes but only string data.\n",
    "\n",
    "data = \"aryan\"\n",
    "len(data)"
   ]
  },
  {
   "cell_type": "code",
   "execution_count": 18,
   "id": "45d7eda9-eb1a-4f9e-867c-7e9333ff2c06",
   "metadata": {},
   "outputs": [
    {
     "name": "stdin",
     "output_type": "stream",
     "text": [
      " Ricky\n"
     ]
    },
    {
     "name": "stdout",
     "output_type": "stream",
     "text": [
      "Ricky\n"
     ]
    }
   ],
   "source": [
    "#INPUT - An input box used to give multiple values to a particular cell. It is mainly used for loops and conditional statements.\n",
    "\n",
    "name = input()\n",
    "print(name)"
   ]
  },
  {
   "cell_type": "code",
   "execution_count": 25,
   "id": "f892d193-98aa-4a77-96a7-be5c97821c63",
   "metadata": {},
   "outputs": [
    {
     "name": "stdin",
     "output_type": "stream",
     "text": [
      " 10\n",
      " 80\n"
     ]
    },
    {
     "name": "stdout",
     "output_type": "stream",
     "text": [
      "1080\n",
      "<class 'str'>\n",
      "<class 'str'>\n"
     ]
    }
   ],
   "source": [
    "numA = input()\n",
    "numB = input()\n",
    "print(numA + numB)\n",
    "\n",
    "print(type(numA))\n",
    "print(type(numB))\n"
   ]
  },
  {
   "cell_type": "code",
   "execution_count": 23,
   "id": "d9415eb6-8f13-4eb0-bfc8-0255141dcc29",
   "metadata": {},
   "outputs": [
    {
     "name": "stdin",
     "output_type": "stream",
     "text": [
      " 10\n",
      " 80\n"
     ]
    },
    {
     "name": "stdout",
     "output_type": "stream",
     "text": [
      "90\n"
     ]
    }
   ],
   "source": [
    "numA = int(input())\n",
    "numB = int(input())\n",
    "print(numA + numB)"
   ]
  },
  {
   "cell_type": "code",
   "execution_count": 26,
   "id": "26d0837d-0c6b-4224-905e-281c9048fdea",
   "metadata": {},
   "outputs": [
    {
     "name": "stdin",
     "output_type": "stream",
     "text": [
      " 3\n",
      " 4\n",
      " 5\n"
     ]
    },
    {
     "name": "stdout",
     "output_type": "stream",
     "text": [
      "12\n"
     ]
    }
   ],
   "source": [
    "#find the perimeter of trianhgle.\n",
    "\n",
    "s1=int(input())\n",
    "s2=int(input())\n",
    "s3=int(input())\n",
    "print(s1+s2+s3)"
   ]
  },
  {
   "cell_type": "code",
   "execution_count": 29,
   "id": "a41368fb-4ef7-40f8-9895-7cb3bb72499e",
   "metadata": {},
   "outputs": [
    {
     "name": "stdout",
     "output_type": "stream",
     "text": [
      "10\n",
      "100\n"
     ]
    }
   ],
   "source": [
    "#OPERATORS\n",
    "\n",
    "#ASSIGNMENT OP - '='\\\n",
    "a = 10\n",
    "print(10)\n",
    "\n",
    "m1 = m2 = m3 = 100 #eg of in-line comment.\n",
    "print(m2)"
   ]
  },
  {
   "cell_type": "code",
   "execution_count": 31,
   "id": "40ce6ad7-44b3-4405-8f02-44de6961b0bf",
   "metadata": {},
   "outputs": [
    {
     "name": "stdout",
     "output_type": "stream",
     "text": [
      "Aryan 21 Malad Analyst\n"
     ]
    }
   ],
   "source": [
    "name, age, loc, job = \"Aryan\",21,\"Malad\",\"Analyst\"\n",
    "print(name, age, loc, job)"
   ]
  },
  {
   "cell_type": "code",
   "execution_count": 33,
   "id": "f14cf75b-9910-4caa-a11d-78630cbe9cc5",
   "metadata": {},
   "outputs": [],
   "source": [
    "a = 10"
   ]
  },
  {
   "cell_type": "code",
   "execution_count": 37,
   "id": "26b6fb33-4a0c-441e-b7b1-593965e89586",
   "metadata": {},
   "outputs": [
    {
     "name": "stdout",
     "output_type": "stream",
     "text": [
      "30\n"
     ]
    }
   ],
   "source": [
    "a = a+5\n",
    "print(a)"
   ]
  },
  {
   "cell_type": "code",
   "execution_count": 54,
   "id": "0d5cbd05-a916-4775-bb35-326395f5e4f7",
   "metadata": {},
   "outputs": [
    {
     "name": "stdout",
     "output_type": "stream",
     "text": [
      "110\n"
     ]
    }
   ],
   "source": [
    "a+=5\n",
    "print(a)"
   ]
  },
  {
   "cell_type": "code",
   "execution_count": null,
   "id": "763bcf7f-3785-41df-adbd-d4cbffd1f4d7",
   "metadata": {},
   "outputs": [],
   "source": [
    "#ARITHMETIC OPS - Used to do mathematical calculations like add, subt, mul, div.\n",
    "\n",
    "\"\"\" \n",
    "This is \n",
    "a multiple \n",
    "line comment\n",
    "\"\"\"\n",
    "\n",
    "a=2,b=4\n",
    "\n",
    "Addition:(a+b)\n",
    "Subtraction:(a-b)\n",
    "Multiplication:(a*b)\n",
    "Division:(a/b)\n",
    "Floor div:(a//b)\n",
    "Modulus:(a%b)\n",
    "Exponential:(a**b)\n"
   ]
  },
  {
   "cell_type": "code",
   "execution_count": 55,
   "id": "b3131c39-35bf-4a71-a8be-185679b44022",
   "metadata": {},
   "outputs": [],
   "source": [
    "# RELATIONAL OPS - True/False\n"
   ]
  },
  {
   "cell_type": "code",
   "execution_count": null,
   "id": "4c53d175-0f78-4550-97a6-f85a3e9bcb9f",
   "metadata": {},
   "outputs": [],
   "source": [
    "# LOGICAL OPS - AND, OR, NOT\n",
    "'''\n",
    "AND - ALL VALUES TO BE SATISFIED\n",
    "OR- EITHER OF THE CONDITIONS TO BE SATISFIED\n",
    "NOT - NONE OF THEM IS TRUE.\n",
    "'''"
   ]
  },
  {
   "cell_type": "code",
   "execution_count": 56,
   "id": "d747c678-2f26-43cf-add6-a23c3c6d1b8c",
   "metadata": {},
   "outputs": [],
   "source": [
    "a=30\n",
    "b=20\n",
    "c=25"
   ]
  },
  {
   "cell_type": "code",
   "execution_count": 57,
   "id": "41537959-3ceb-4733-965c-2a8c98897285",
   "metadata": {},
   "outputs": [
    {
     "data": {
      "text/plain": [
       "True"
      ]
     },
     "execution_count": 57,
     "metadata": {},
     "output_type": "execute_result"
    }
   ],
   "source": [
    "#AND\n",
    "\n",
    "a<35 and b<=20 and c>15"
   ]
  },
  {
   "cell_type": "code",
   "execution_count": 60,
   "id": "23c7742d-f349-463f-8bee-f7f1abda423d",
   "metadata": {},
   "outputs": [
    {
     "data": {
      "text/plain": [
       "False"
      ]
     },
     "execution_count": 60,
     "metadata": {},
     "output_type": "execute_result"
    }
   ],
   "source": [
    "#NOT\n",
    "\n",
    "not a<40"
   ]
  },
  {
   "cell_type": "code",
   "execution_count": null,
   "id": "d46cdb46-2388-4719-bb6e-ccdb224070b1",
   "metadata": {},
   "outputs": [],
   "source": [
    "# IDENTITY OPS - They try to check the variables are identical or not.\n",
    "'''\n",
    "is - true when both values same\n",
    "is not - true if both values do not have same values\n",
    "'''"
   ]
  },
  {
   "cell_type": "code",
   "execution_count": 61,
   "id": "a9acc1e3-99ba-4c2b-bf3e-3002baf5276a",
   "metadata": {},
   "outputs": [],
   "source": [
    "a = 30.0\n",
    "b = 30\n",
    "c = 35"
   ]
  },
  {
   "cell_type": "code",
   "execution_count": 62,
   "id": "b07fc58c-33c6-454b-badf-8a010df14395",
   "metadata": {},
   "outputs": [
    {
     "name": "stdout",
     "output_type": "stream",
     "text": [
      "False\n",
      "True\n"
     ]
    }
   ],
   "source": [
    "print(a is b)\n",
    "print(a is not c)"
   ]
  },
  {
   "cell_type": "code",
   "execution_count": 63,
   "id": "f7c29814-98e1-4cf5-974d-b110096c512c",
   "metadata": {},
   "outputs": [
    {
     "data": {
      "text/plain": [
       "True"
      ]
     },
     "execution_count": 63,
     "metadata": {},
     "output_type": "execute_result"
    }
   ],
   "source": [
    "a==b"
   ]
  },
  {
   "cell_type": "code",
   "execution_count": 64,
   "id": "ff65edc1-00e5-4f9d-8361-850b5a5a1046",
   "metadata": {},
   "outputs": [],
   "source": [
    "# MEMBERSHIP OPS - Try to find the values used are part of members of particular sequence\n",
    "\n",
    "## in - true when values is part of sequence\n",
    "## not in - true when values are not part of sequence"
   ]
  },
  {
   "cell_type": "code",
   "execution_count": 69,
   "id": "296614c5-44ed-4415-bd6f-a58348a49b3f",
   "metadata": {},
   "outputs": [
    {
     "name": "stdout",
     "output_type": "stream",
     "text": [
      "True\n",
      "False\n",
      "True\n",
      "True\n",
      "False\n"
     ]
    }
   ],
   "source": [
    "lang = \"We are studying python\"\n",
    "print(\"ar\" in lang)\n",
    "print(\"a r\" in lang)\n",
    "print(\"python\" in lang)\n",
    "print(\"e s\" in lang)\n",
    "print(\"are\" not in lang)\n"
   ]
  },
  {
   "cell_type": "code",
   "execution_count": null,
   "id": "c1b78fc4-d0c4-461c-b35e-d9dda83ce016",
   "metadata": {},
   "outputs": [],
   "source": [
    "# CONDITIONAL STATEMENTS - Executes when specified condition is to be true.\n"
   ]
  },
  {
   "cell_type": "code",
   "execution_count": 72,
   "id": "21f0dd75-5f89-4a0b-8562-8a848d2bdca5",
   "metadata": {},
   "outputs": [
    {
     "name": "stdout",
     "output_type": "stream",
     "text": [
      "PASS!\n",
      "my updates score is 55\n"
     ]
    }
   ],
   "source": [
    "# IF Statement\n",
    "\n",
    "marks=45\n",
    "\n",
    "if marks>35:\n",
    "    print(\"PASS!\")\n",
    "    new = marks+10\n",
    "    print(\"my updates score is\",new)"
   ]
  },
  {
   "cell_type": "code",
   "execution_count": 77,
   "id": "c011e66a-6cf1-44cb-ae3d-2f1fe9f44077",
   "metadata": {},
   "outputs": [
    {
     "name": "stdin",
     "output_type": "stream",
     "text": [
      "Age: 18\n"
     ]
    },
    {
     "name": "stdout",
     "output_type": "stream",
     "text": [
      "Yes!\n"
     ]
    }
   ],
   "source": [
    "age = int(input(\"Age:\"))\n",
    "\n",
    "if age>=18:\n",
    "    print(\"Yes!\")"
   ]
  },
  {
   "cell_type": "code",
   "execution_count": 80,
   "id": "41f855be-8a66-4b3d-af6e-8f315a8a202f",
   "metadata": {},
   "outputs": [
    {
     "name": "stdin",
     "output_type": "stream",
     "text": [
      "Marks: 99\n"
     ]
    },
    {
     "name": "stdout",
     "output_type": "stream",
     "text": [
      "PASS!\n"
     ]
    }
   ],
   "source": [
    "marks=int(input(\"Marks:\"))\n",
    "\n",
    "if marks>35:\n",
    "    print(\"PASS!\")\n",
    "else:\n",
    "    print(\"FAIL!!\")"
   ]
  },
  {
   "cell_type": "code",
   "execution_count": 82,
   "id": "d6f62098-8ad3-4960-a8bb-72f7823a97e4",
   "metadata": {},
   "outputs": [
    {
     "name": "stdout",
     "output_type": "stream",
     "text": [
      "Below 40\n"
     ]
    }
   ],
   "source": [
    "val = 10\n",
    "\n",
    "if val>=30 and val<=40:\n",
    "    print(\"Above 30\")\n",
    "else:\n",
    "    print(\"Below 40\")\n"
   ]
  },
  {
   "cell_type": "code",
   "execution_count": 85,
   "id": "ec600d3e-d5a4-4604-9e91-7a7e88a87a98",
   "metadata": {},
   "outputs": [
    {
     "name": "stdout",
     "output_type": "stream",
     "text": [
      "It is Multiple of 3\n"
     ]
    }
   ],
   "source": [
    "num=45\n",
    "\n",
    "if num%3==0:\n",
    "    print(\"It is Multiple of 3\")\n",
    "else:\n",
    "    print(\"Not a multiple of 3\")"
   ]
  },
  {
   "cell_type": "code",
   "execution_count": 88,
   "id": "b389976f-502f-43d5-849b-0a82bd6d3792",
   "metadata": {},
   "outputs": [
    {
     "name": "stdout",
     "output_type": "stream",
     "text": [
      "F\n"
     ]
    }
   ],
   "source": [
    "# IF ELIF ELIF ELSE STATEMENTS\n",
    "\n",
    "marks=34\n",
    "\n",
    "if marks>=85:\n",
    "    print(\"A\")\n",
    "elif marks>=75:\n",
    "    print(\"B\")\n",
    "elif marks>=60:\n",
    "    print(\"C\")\n",
    "elif marks>=50:\n",
    "    print(\"D\")\n",
    "elif marks>=35:\n",
    "    print(\"E\")\n",
    "else:\n",
    "    print(\"F\")"
   ]
  },
  {
   "cell_type": "code",
   "execution_count": 90,
   "id": "d09d11f8-d7d9-4896-a9e3-a4937c603fea",
   "metadata": {},
   "outputs": [
    {
     "name": "stdin",
     "output_type": "stream",
     "text": [
      "Month: sept\n"
     ]
    },
    {
     "name": "stdout",
     "output_type": "stream",
     "text": [
      "Q2 of FY\n"
     ]
    }
   ],
   "source": [
    "month=input(\"Month:\")\n",
    "\n",
    "if month == \"apr\" or month == \"may\" or month == \"june\":\n",
    "    print(\"Q1 of FY\")\n",
    "elif month == \"july\" or month == \"aug\" or month == \"sept\":\n",
    "    print(\"Q2 of FY\")\n",
    "elif month == \"oct\" or month == \"nov\" or month == \"dec\":\n",
    "    print(\"Q3 of FY\")\n",
    "elif month == \"jan\" or month == \"feb\" or month == \"mar\":\n",
    "    print(\"Q4 of FY\")\n",
    "else:\n",
    "    print(\"Wrong month\")\n"
   ]
  },
  {
   "cell_type": "code",
   "execution_count": null,
   "id": "e2bf3a56-5ec5-4441-8d81-f328689457e9",
   "metadata": {},
   "outputs": [],
   "source": [
    "month=input(\"Month:\")\n",
    "\n",
    "if month in (\"apr\",\"may\",\"june\"):\n",
    "    print(\"Q1 of FY\")\n",
    "elif "
   ]
  },
  {
   "cell_type": "code",
   "execution_count": 2,
   "id": "f84cd996-c98d-4b8a-9f05-645278684291",
   "metadata": {},
   "outputs": [
    {
     "name": "stdout",
     "output_type": "stream",
     "text": [
      "The no is divisible by 3\n",
      "The no is only divisible by 3\n"
     ]
    }
   ],
   "source": [
    "#NESTED IF-ELSE\n",
    "\n",
    "number = 63\n",
    "\n",
    "if number%3==0:\n",
    "    print(\"The no is divisible by 3\")\n",
    "    if number%5==0:\n",
    "        print(\"The no is divisible by 3 and 5\")\n",
    "    else:\n",
    "        print(\"The no is only divisible by 3\")\n",
    "else:\n",
    "    print(\"The no is not divisible by 3\")\n",
    "    "
   ]
  },
  {
   "cell_type": "code",
   "execution_count": 11,
   "id": "158666b9-e35e-4f8c-874a-6a591918ea11",
   "metadata": {},
   "outputs": [
    {
     "name": "stdout",
     "output_type": "stream",
     "text": [
      "The no is not divisible by 3 nor 5\n"
     ]
    }
   ],
   "source": [
    "#1\n",
    "\n",
    "number=63\n",
    "if number%3 and number%5==0:\n",
    "    print(\"The no is divisible by 3 and 5\")\n",
    "else:\n",
    "    print(\"The no is not divisible by 3 nor 5\")\n",
    "    \n",
    "    "
   ]
  },
  {
   "cell_type": "code",
   "execution_count": 12,
   "id": "458179d9-3a73-4c85-b7a8-d72bb5fb64cc",
   "metadata": {},
   "outputs": [
    {
     "name": "stdout",
     "output_type": "stream",
     "text": [
      "A\n"
     ]
    }
   ],
   "source": [
    "#2\n",
    "\n",
    "marks = 99\n",
    "\n",
    "if marks <= 100 and marks>=0:\n",
    "    if marks>=85:\n",
    "        print(\"A\")\n",
    "    elif marks>=75:\n",
    "        print(\"B\")\n",
    "    elif marks>=60:\n",
    "        print(\"C\")\n",
    "    elif marks>=50:\n",
    "        print(\"D\")\n",
    "    elif marks>=35:\n",
    "        print(\"E\")\n",
    "    else:\n",
    "        print(\"F\")\n",
    "else:\n",
    "    print(\"Invalid marks!\")\n",
    "    "
   ]
  },
  {
   "cell_type": "code",
   "execution_count": 10,
   "id": "961b7fc0-f0d5-47b7-82b8-0669864510c4",
   "metadata": {},
   "outputs": [
    {
     "name": "stdout",
     "output_type": "stream",
     "text": [
      "A is grt than 30\n"
     ]
    }
   ],
   "source": [
    "#3 IF-ELSE(IF-ELSE)\n",
    "\n",
    "A = 35\n",
    "B = 45\n",
    "\n",
    "if A>B:\n",
    "    print(\"A is grt\")\n",
    "else:\n",
    "    if A>30:\n",
    "        print(\"A is grt than 30\")\n",
    "    else:\n",
    "        print(\"A less than 30\") # -*-*-*-"
   ]
  },
  {
   "cell_type": "code",
   "execution_count": 13,
   "id": "7e530bb9-e696-4a40-8575-ce302eec765b",
   "metadata": {},
   "outputs": [
    {
     "data": {
      "text/plain": [
       "\" \\nTYPES:\\n1. FOR - ITERATIVE LOOP\\n2. WHILE - CONDITIONAL LOOP\\n3. DO-WHILE (DOESN'T EXIST IN PYTHON)\\n\""
      ]
     },
     "execution_count": 13,
     "metadata": {},
     "output_type": "execute_result"
    }
   ],
   "source": [
    "# LOOPS - PROGRAMMING CONSTRUCTS OR LOGICS THAT EXECUTE 'N' NUMBER OF TIMES.\n",
    "''' \n",
    "TYPES:\n",
    "1. FOR - ITERATIVE LOOP\n",
    "2. WHILE - CONDITIONAL LOOP\n",
    "3. DO-WHILE (DOESN'T EXIST IN PYTHON)\n",
    "\n",
    "INCREMENT - LOWER TON HIGHER.\n",
    "DECREMENT - HIGHER TO LOWER.\n",
    "\n",
    "PRE-INC/DECR\n",
    "POST-INC/DECR \n",
    "\n",
    "'''\n",
    "\n"
   ]
  },
  {
   "cell_type": "code",
   "execution_count": 14,
   "id": "a7524a35-06fa-4faf-a79a-f5de197bfcb6",
   "metadata": {},
   "outputs": [
    {
     "name": "stdout",
     "output_type": "stream",
     "text": [
      "The no is 0\n",
      "The no is 1\n",
      "The no is 2\n",
      "The no is 3\n",
      "The no is 4\n",
      "The no is 5\n",
      "Out of loops\n"
     ]
    }
   ],
   "source": [
    "i = 0  #INITIALIZER\n",
    "while i<=5:  #CONDITION\n",
    "    print(\"The no is\",i)  #STATEMENT\n",
    "    i = i+1  #POST-INCREMENT\n",
    "else:\n",
    "    print(\"Out of loops\")"
   ]
  },
  {
   "cell_type": "code",
   "execution_count": 15,
   "id": "c15cc40a-5466-4486-9d53-1b986a5ea395",
   "metadata": {},
   "outputs": [
    {
     "name": "stdout",
     "output_type": "stream",
     "text": [
      "The no is 1\n",
      "The no is 2\n",
      "The no is 3\n",
      "The no is 4\n",
      "The no is 5\n",
      "The no is 6\n",
      "Out of loop\n"
     ]
    }
   ],
   "source": [
    "i = 0  #INITIALIZER\n",
    "while i<=5: #CONDITION\n",
    "    i = i+1  #PRE-INCREMENT\n",
    "    print(\"The no is\",i)  #STATEMENT\n",
    "else:\n",
    "    print(\"Out of loop\")"
   ]
  },
  {
   "cell_type": "code",
   "execution_count": 18,
   "id": "452fcb12-b780-4517-bcac-2a81d41b3baf",
   "metadata": {},
   "outputs": [
    {
     "name": "stdout",
     "output_type": "stream",
     "text": [
      "The no is: 100\n",
      "The no is: 95\n",
      "The no is: 90\n",
      "The no is: 85\n",
      "The no is: 80\n",
      "The no is: 75\n",
      "The no is: 70\n",
      "The no is: 65\n",
      "The no is: 60\n",
      "The no is: 55\n",
      "The no is: 50\n",
      "Out of loops\n"
     ]
    }
   ],
   "source": [
    "x = 100\n",
    "while x>=50:\n",
    "    print(\"The no is:\",x)\n",
    "    x = x-5\n",
    "else:\n",
    "    print(\"Out of loops\")"
   ]
  },
  {
   "cell_type": "code",
   "execution_count": 17,
   "id": "93b33dc3-ea54-49dc-801d-6d9d7a19d383",
   "metadata": {},
   "outputs": [
    {
     "name": "stdout",
     "output_type": "stream",
     "text": [
      "The no is: 95\n",
      "The no is: 90\n",
      "The no is: 85\n",
      "The no is: 80\n",
      "The no is: 75\n",
      "The no is: 70\n",
      "The no is: 65\n",
      "The no is: 60\n",
      "The no is: 55\n",
      "The no is: 50\n",
      "The no is: 45\n",
      "Out of loops\n"
     ]
    }
   ],
   "source": [
    "x = 100\n",
    "while x>=50:\n",
    "    x = x-5\n",
    "    print(\"The no is:\",x)\n",
    "else:\n",
    "    print(\"Out of loops\")"
   ]
  },
  {
   "cell_type": "code",
   "execution_count": 22,
   "id": "42bd67e2-6d34-4118-b6bb-bb83eb444010",
   "metadata": {},
   "outputs": [
    {
     "name": "stdout",
     "output_type": "stream",
     "text": [
      "10 -even\n",
      "11 -odd\n",
      "12 -even\n",
      "13 -odd\n",
      "14 -even\n",
      "15 -odd\n",
      "16 -even\n",
      "17 -odd\n",
      "18 -even\n",
      "19 -odd\n",
      "20 -even\n"
     ]
    }
   ],
   "source": [
    "''' find out that each no btw 10 to 20 is even or odd using WHILE loop.\n",
    "'''\n",
    "x = 10\n",
    "while x<=20:\n",
    "    if x%2==0:\n",
    "        print(x,\"-even\")\n",
    "    else:\n",
    "        print(x,\"-odd\")\n",
    "    x = x + 1"
   ]
  },
  {
   "cell_type": "code",
   "execution_count": 25,
   "id": "b6004d70-c074-425c-b485-37a6abf74ec4",
   "metadata": {},
   "outputs": [
    {
     "name": "stdout",
     "output_type": "stream",
     "text": [
      "100 Div by 10 and 5\n",
      "98 NOT div by 5\n",
      "96 NOT div by 5\n",
      "94 NOT div by 5\n",
      "92 NOT div by 5\n",
      "90 Div by 10 and 5\n",
      "88 NOT div by 5\n",
      "86 NOT div by 5\n",
      "84 NOT div by 5\n",
      "82 NOT div by 5\n",
      "80 Div by 10 and 5\n",
      "78 NOT div by 5\n",
      "76 NOT div by 5\n",
      "74 NOT div by 5\n",
      "72 NOT div by 5\n",
      "70 Div by 10 and 5\n"
     ]
    }
   ],
   "source": [
    "i = 100\n",
    "\n",
    "while i>=70:\n",
    "    if i%10==0:\n",
    "        if i%5==0:\n",
    "            print(i,\"Div by 10 and 5\")\n",
    "        else:\n",
    "            print(i,\"NOT div by 10 and 5\")\n",
    "    else:\n",
    "        print(i,\"NOT div by 5\")\n",
    "    i = i-2\n",
    "    "
   ]
  },
  {
   "cell_type": "code",
   "execution_count": 31,
   "id": "bfe7838b-ffd3-43a1-87df-fbeded29241b",
   "metadata": {},
   "outputs": [
    {
     "name": "stdout",
     "output_type": "stream",
     "text": [
      "9* 9 = 9\n",
      "9* 9 = 18\n",
      "9* 9 = 27\n",
      "9* 9 = 36\n",
      "9* 9 = 45\n",
      "9* 9 = 54\n",
      "9* 9 = 63\n",
      "9* 9 = 72\n",
      "9* 9 = 81\n",
      "9* 9 = 90\n"
     ]
    }
   ],
   "source": [
    "#print 9 times table using while\n",
    "\n",
    "i=9\n",
    "a=1\n",
    "\n",
    "while a<=10:\n",
    "    print(\"9*\",i,\"=\",i*a)\n",
    "    a = a+1\n",
    "    \n",
    "    "
   ]
  },
  {
   "cell_type": "code",
   "execution_count": null,
   "id": "3652f959-537b-4986-8af0-13f8a24526c7",
   "metadata": {},
   "outputs": [],
   "source": [
    "# FOR LOOPS :-"
   ]
  },
  {
   "cell_type": "code",
   "execution_count": 33,
   "id": "c44c94cf-abd0-4b76-88cd-e33027063196",
   "metadata": {},
   "outputs": [
    {
     "name": "stdout",
     "output_type": "stream",
     "text": [
      "6\n",
      "16\n",
      "20\n",
      "30\n",
      "44\n",
      "60\n",
      "88\n"
     ]
    }
   ],
   "source": [
    "nos = [3,8,10,15,22,30,44]\n",
    "for i in nos:\n",
    "    print(i*2)"
   ]
  },
  {
   "cell_type": "code",
   "execution_count": 35,
   "id": "51d0ef2b-0f63-4e3d-b0d4-ca292aa8398e",
   "metadata": {},
   "outputs": [
    {
     "name": "stdout",
     "output_type": "stream",
     "text": [
      "34 not div by 5\n",
      "56 not div by 5\n",
      "78 not div by 5\n",
      "9 not div by 5\n",
      "8 not div by 5\n",
      "7 not div by 5\n",
      "5 is div by 5\n",
      "35 is div by 5\n",
      "57 not div by 5\n",
      "35 is div by 5\n"
     ]
    }
   ],
   "source": [
    "# in list below, print nos divisible by 5\n",
    "# num=[34,56,78,9,8,7,5,35,57,35]\n",
    "\n",
    "num=[34,56,78,9,8,7,5,35,57,35]\n",
    "for i in num:\n",
    "    if i%5==0:\n",
    "        print(i,\"is div by 5\")\n",
    "    else:\n",
    "        print(i,\"not div by 5\")\n",
    "\n"
   ]
  },
  {
   "cell_type": "code",
   "execution_count": 36,
   "id": "55ea9497-e7e8-4ca2-8836-c63608956915",
   "metadata": {},
   "outputs": [
    {
     "name": "stdout",
     "output_type": "stream",
     "text": [
      "23 is odd\n",
      "34 is even\n",
      "4 is even\n",
      "2 is even\n",
      "45 is odd\n",
      "34 is even\n",
      "56 is even\n"
     ]
    }
   ],
   "source": [
    "# Tell which nos are ODD and EVEN\n",
    "\n",
    "list=[23,34,4,2,45,34,56]\n",
    "for i in list:\n",
    "    if i%2==0:\n",
    "        print(i,\"is even\")\n",
    "    else:\n",
    "        print(i,\"is odd\")"
   ]
  },
  {
   "cell_type": "code",
   "execution_count": 37,
   "id": "55fade2b-e32c-4a6a-a9ef-88dd229cea83",
   "metadata": {},
   "outputs": [
    {
     "name": "stdout",
     "output_type": "stream",
     "text": [
      "odd nos in list1 are:  [23, 45]\n",
      "even nos in list1 are:  [34, 4, 2, 34, 56]\n"
     ]
    }
   ],
   "source": [
    "# prev q using append\n",
    "\n",
    "list1=[23,34,4,2,45,34,56]\n",
    "odd=[]\n",
    "even=[]\n",
    "\n",
    "for i in list1:\n",
    "    if i%2==0:\n",
    "        even.append(i)\n",
    "    else:\n",
    "        odd.append(i)\n",
    "\n",
    "print(\"odd nos in list1 are: \",odd)\n",
    "print(\"even nos in list1 are: \",even)\n"
   ]
  },
  {
   "cell_type": "code",
   "execution_count": 1,
   "id": "542f5e6b-9052-4e03-9492-063dd649a39c",
   "metadata": {},
   "outputs": [
    {
     "data": {
      "text/plain": [
       "[5, 6, 7, 8, 9, 10, 11, 12, 13, 14]"
      ]
     },
     "execution_count": 1,
     "metadata": {},
     "output_type": "execute_result"
    }
   ],
   "source": [
    " list(range(5,15))"
   ]
  },
  {
   "cell_type": "code",
   "execution_count": 4,
   "id": "7b8babe7-9fbb-4741-92c4-d018c2e4a2a0",
   "metadata": {},
   "outputs": [
    {
     "name": "stdin",
     "output_type": "stream",
     "text": [
      "Enter number:  81\n"
     ]
    },
    {
     "name": "stdout",
     "output_type": "stream",
     "text": [
      "it is not a prime number\n"
     ]
    }
   ],
   "source": [
    "num = int(input('Enter number: '))\n",
    "for x in range(2,num):\n",
    "    if num > 1:\n",
    "        if num % x==0:\n",
    "            print(\"it is not a prime number\")\n",
    "            break\n",
    "else:\n",
    "    print(\"it is a prime number\")"
   ]
  },
  {
   "cell_type": "code",
   "execution_count": 8,
   "id": "916a137a-7aad-418e-884f-664b00fc69f9",
   "metadata": {},
   "outputs": [
    {
     "name": "stdout",
     "output_type": "stream",
     "text": [
      "1\n",
      "3\n",
      "5\n",
      "7\n",
      "9\n",
      "11\n",
      "loop ends here\n"
     ]
    }
   ],
   "source": [
    "#CONTINUE - JUMP STATEMENT TO SKIP EXECUTION OF CURRENT ITERATION.\n",
    "\n",
    "a=0\n",
    "while a<=10:\n",
    "    a=a+1\n",
    "    if a%2==0:\n",
    "        continue\n",
    "    print(a)\n",
    "\n",
    "print(\"loop ends here\")"
   ]
  },
  {
   "cell_type": "code",
   "execution_count": 10,
   "id": "b04d339a-64a1-4113-b20f-c09883ee8a3a",
   "metadata": {},
   "outputs": [
    {
     "name": "stdout",
     "output_type": "stream",
     "text": [
      "Number is 1\n",
      "Number is 2\n",
      "Number is 3\n",
      "Number is 4\n",
      "Number is 5\n",
      "Number is 6\n",
      "Number is 7\n",
      "Number is 8\n",
      "Number is 9\n",
      "Number is 10\n"
     ]
    }
   ],
   "source": [
    "#PASS - KEYWORD USED TO EXECUTE NOTHING.\n",
    "\n",
    "for num in range(10):\n",
    "    num = num+1\n",
    "    if num==5:\n",
    "        pass \n",
    "    print(\"Number is\",num)"
   ]
  },
  {
   "cell_type": "code",
   "execution_count": 11,
   "id": "6985ee71-453e-4bfa-bed9-a84eef35cf15",
   "metadata": {},
   "outputs": [
    {
     "name": "stdout",
     "output_type": "stream",
     "text": [
      "No is 5\n"
     ]
    }
   ],
   "source": [
    "for num in range(10):\n",
    "    num = num+1\n",
    "    if num==5:\n",
    "        print(\"No is\",num)"
   ]
  },
  {
   "cell_type": "code",
   "execution_count": null,
   "id": "bbfaf7cd-d676-46f2-ac16-2967e4eb8ee5",
   "metadata": {},
   "outputs": [],
   "source": [
    "#FUNCTIONS - BLOCK OF CODE USED TO PERFORM A SPECIFIC TASK OR SET OF TASKS.\n",
    "\n",
    "#TYPES: PRE-DEFINED and USER-DEFINED\n",
    "'''\n",
    "TERMINOLOGIES:  [PRE-REQUISITES FOR CREATING A FUNCTION]\n",
    "\n",
    "FUNCTION NAME\n",
    "FUNCTION DEFINITION; LOGIC BEHIND CREATING THE FUNCTION\n",
    "FUNCTION CALL/EXECUTE; eg: print()\n",
    "PARAMETER; SET OF VALUES REQUIRED TO AMKE THE FUNCTION RUN OR EXECUTE\n",
    "RETURN; IT WILL RETUEN OR DISPLAY THE OUTPUT WHEN THE FUNCTION IS BEING EXECUTED.\n",
    "'''\n",
    "\n",
    "#PRE-DEFINED FUNCTIONS - ALSO KNOWN AS BUILT-IN FUNCTIONS THAT ARE ALREADY DEFINED IN PYTHON\n",
    "\n",
    "#USER-DEFINED FUNCTIONS - ALSO KNOWN AS CUSTOMIZABLE FUNCTIONS. HERE, THE LOGIC NOT PRE-WRITTEN, WE NEED  TO CREATE THE LOGIC FROM SCRATCH.\n",
    "'''\n",
    "PARTS OF UDF'S:\n",
    "1. PARAMETERIZED: FUNCTIONS REQUIRING SOME SET OF VALUES TO BE USED WITHIN THE FUNCTION TO EXECUTE\n",
    "    SYNTAX:\n",
    "    def function_name (parameters):\n",
    "        Statements\n",
    "        Statements\n",
    "        Statements\n",
    "        RETURN value/expressions  \n",
    "\n",
    "2. PARAMETER-LESS: THESE FUNCTIONS DO NOT REQUIRE ANY SET OF VALUES TO BE USED WITHIN THE FUNCTION TO EXECUTE.\n",
    "\n",
    "3. LAMBDA: ALSO KNOWN AS ANONYMOUS FUNCTIONS- NAMELESS or UNKNOWN FUNCTIONS. THEY ARE SHORTER OR ONE-LINE FUNCS USED TO PERFORM SHORTER/SMALLER TASKS.\n",
    "        LAMBDA ARE NEVER CRATED BY 'def' KEYWORD. NO INDENTATION OR RETURN IS REQUIRED. HAVE 'N' NO OF PARAMETERS BUT ONLY 1 EXPRESSION. NEEDS A \n",
    "        VARIABLE TO STORE.\n",
    "        \n",
    "        SYNTAX:\n",
    "        lambda parameters: expression"
   ]
  },
  {
   "cell_type": "code",
   "execution_count": 15,
   "id": "577fd059-f99d-4f4a-885b-683ce43c0f28",
   "metadata": {},
   "outputs": [
    {
     "data": {
      "text/plain": [
       "\u001b[1;31mInit signature:\u001b[0m \u001b[0mrange\u001b[0m\u001b[1;33m(\u001b[0m\u001b[0mself\u001b[0m\u001b[1;33m,\u001b[0m \u001b[1;33m/\u001b[0m\u001b[1;33m,\u001b[0m \u001b[1;33m*\u001b[0m\u001b[0margs\u001b[0m\u001b[1;33m,\u001b[0m \u001b[1;33m**\u001b[0m\u001b[0mkwargs\u001b[0m\u001b[1;33m)\u001b[0m\u001b[1;33m\u001b[0m\u001b[1;33m\u001b[0m\u001b[0m\n",
       "\u001b[1;31mDocstring:\u001b[0m     \n",
       "range(stop) -> range object\n",
       "range(start, stop[, step]) -> range object\n",
       "\n",
       "Return an object that produces a sequence of integers from start (inclusive)\n",
       "to stop (exclusive) by step.  range(i, j) produces i, i+1, i+2, ..., j-1.\n",
       "start defaults to 0, and stop is omitted!  range(4) produces 0, 1, 2, 3.\n",
       "These are exactly the valid indices for a list of 4 elements.\n",
       "When step is given, it specifies the increment (or decrement).\n",
       "\u001b[1;31mType:\u001b[0m           type\n",
       "\u001b[1;31mSubclasses:\u001b[0m     "
      ]
     },
     "metadata": {},
     "output_type": "display_data"
    }
   ],
   "source": [
    "?range # Docstring - Used to find out the description of the built-in functions."
   ]
  },
  {
   "cell_type": "code",
   "execution_count": null,
   "id": "2d8b2686-8a71-46a0-b259-a1b5dbfc077a",
   "metadata": {},
   "outputs": [],
   "source": []
  },
  {
   "cell_type": "code",
   "execution_count": 16,
   "id": "844b1b94-e911-47cd-9b2f-ab412749dbe4",
   "metadata": {},
   "outputs": [],
   "source": [
    "def equal(x,y):\n",
    "    if x==y:\n",
    "        return\"No.s are equal\"\n",
    "    else:\n",
    "        return\"No.s are NOT equal\""
   ]
  },
  {
   "cell_type": "code",
   "execution_count": 18,
   "id": "eea0064a-3601-4072-bcb4-945acb905738",
   "metadata": {},
   "outputs": [
    {
     "data": {
      "text/plain": [
       "'No.s are equal'"
      ]
     },
     "execution_count": 18,
     "metadata": {},
     "output_type": "execute_result"
    }
   ],
   "source": [
    "equal(10,10)"
   ]
  },
  {
   "cell_type": "code",
   "execution_count": 19,
   "id": "caeba623-831b-45b7-8a7e-90f15020f785",
   "metadata": {},
   "outputs": [],
   "source": [
    "sq=lambda x:x**2"
   ]
  },
  {
   "cell_type": "markdown",
   "id": "180b607b-822d-42b9-bb39-918932f782f4",
   "metadata": {},
   "source": []
  },
  {
   "cell_type": "code",
   "execution_count": 6,
   "id": "dfe197e6-f99a-43db-bc04-814bcf4b97cb",
   "metadata": {},
   "outputs": [
    {
     "name": "stdout",
     "output_type": "stream",
     "text": [
      "<class 'float'>\n",
      "34245\n",
      "<class 'complex'>\n"
     ]
    },
    {
     "data": {
      "text/plain": [
       "5.0"
      ]
     },
     "execution_count": 6,
     "metadata": {},
     "output_type": "execute_result"
    }
   ],
   "source": [
    "#DATA STRUCTURES\n",
    "\n",
    "#1. NUMBERS \n",
    "\n",
    "a=34\n",
    "type(a)\n",
    "float(a)\n",
    "\n",
    "b=34245.4564\n",
    "print(type(b))\n",
    "\n",
    "c= int(b)\n",
    "print(c)\n",
    "\n",
    "d=3+5j\n",
    "print(type(d))\n",
    "\n",
    "d.real\n",
    "d.imag"
   ]
  },
  {
   "cell_type": "code",
   "execution_count": 12,
   "id": "8bcc8506-98d2-4fc9-99d9-52dd4383f7fa",
   "metadata": {},
   "outputs": [
    {
     "name": "stdout",
     "output_type": "stream",
     "text": [
      "12.0\n",
      "5\n",
      "4096.0\n",
      "720\n",
      "3.1416\n",
      "3.141592653589793\n"
     ]
    }
   ],
   "source": [
    "#math is library used for mathematical operations\n",
    "import math \n",
    "\n",
    "print(math.sqrt(144))\n",
    "\n",
    "print(math.floor(10//2))\n",
    "\n",
    "print(math.pow(16,3))\n",
    "\n",
    "print(math.factorial(6))\n",
    "\n",
    "print(round(math.pi,4))\n",
    "\n",
    "print(math.pi)\n",
    "\n",
    "math. "
   ]
  },
  {
   "cell_type": "code",
   "execution_count": 98,
   "id": "2ed32cd6-356a-4d2d-8fe5-382d9ac511bd",
   "metadata": {},
   "outputs": [
    {
     "name": "stdout",
     "output_type": "stream",
     "text": [
      "0.13436424411240122\n",
      "49\n",
      "53.15534109438546\n",
      "1\n",
      "D\n"
     ]
    }
   ],
   "source": [
    "import random as rm #Alaising\n",
    "\n",
    "print(rm.random())\n",
    "\n",
    "print(rm.randint(1,50))\n",
    "\n",
    "print(rm.uniform(50,100))\n",
    "\n",
    "\n",
    "x=[1,2,3,4,5,6]\n",
    "print(rm.choice(x)) # Randomly pull out data\n",
    "\n",
    "z=['A','B','C','D','E']\n",
    "print(rm.choice(z)) # Also works for string\n",
    "\n",
    "rm.seed(1)\n"
   ]
  },
  {
   "cell_type": "code",
   "execution_count": 104,
   "id": "6255bc28-e971-460e-ba3f-2f5050482d71",
   "metadata": {},
   "outputs": [
    {
     "name": "stdout",
     "output_type": "stream",
     "text": [
      "Python prog\n",
      "The session is about \"Data structures\".\n",
      "\n",
      "we are studying python and python\n",
      "is a dynamic lang.\n",
      "\n",
      "<class 'str'>\n"
     ]
    }
   ],
   "source": [
    "# 2. STRINGS \n",
    "\n",
    "lang=\"Python prog\"\n",
    "print(lang)\n",
    "\n",
    "sent='The session is about \\\"Data structures\\\".'\n",
    "print(sent)\n",
    "\n",
    "new='''\n",
    "we are studying python and python\n",
    "is a dynamic lang.\n",
    "'''\n",
    "print(new)\n",
    "\n",
    "values='123456'\n",
    "print(type(values))"
   ]
  },
  {
   "cell_type": "code",
   "execution_count": 108,
   "id": "f2c8b886-bb17-494b-bb22-d6d75c4ac150",
   "metadata": {},
   "outputs": [
    {
     "name": "stdout",
     "output_type": "stream",
     "text": [
      "Aryan Sawardekar\n",
      "Aryan Sawardekar 20\n"
     ]
    }
   ],
   "source": [
    "# STRING CONCATENATION \n",
    "# We can connect strings together. Merging or connecting strings is called concatenation.\n",
    "\n",
    "firstname=\"Aryan \"\n",
    "lastname=\"Sawardekar\"\n",
    "\n",
    "fullname = firstname + lastname\n",
    "print(fullname)\n",
    "\n",
    "age = \" 20\" #will give errors for other datatypes. Concatenate only works on string data.\n",
    "print(fullname + age)"
   ]
  },
  {
   "cell_type": "code",
   "execution_count": 114,
   "id": "255af666-0329-4596-8b1d-730d1f1df5fa",
   "metadata": {},
   "outputs": [
    {
     "name": "stdout",
     "output_type": "stream",
     "text": [
      "PythonPythonPython\n",
      "\n",
      "Python\tPython\tPython\tPython\tPython\t\n",
      "\n",
      "Python\n",
      "Python\n",
      "Python\n",
      "Python\n",
      "Python\n",
      "\n"
     ]
    }
   ],
   "source": [
    "# STRING REPLICATION\n",
    "\n",
    "# Operator used to repeat a string n number of times.\n",
    "# The string will be reapeated n number of times which is given by an integer value.\n",
    "\n",
    "print(\"Python\"*3)\n",
    "print()\n",
    "print(\"Python\\t\"*5)\n",
    "print()\n",
    "print(\"Python\\n\"*5)"
   ]
  },
  {
   "cell_type": "code",
   "execution_count": null,
   "id": "976ac5d8-edea-4cc8-b9e5-608db63b2e6a",
   "metadata": {},
   "outputs": [],
   "source": [
    "# STRING FORMATTING\n",
    "\n",
    "# a) Format\n",
    "# b) f-String"
   ]
  },
  {
   "cell_type": "code",
   "execution_count": 119,
   "id": "1f9f63dd-ed83-47c6-bf6e-7e1e356d8e08",
   "metadata": {},
   "outputs": [
    {
     "name": "stdout",
     "output_type": "stream",
     "text": [
      "My name is Aryan .Lives in Bangalore .Is learning Java . at the age of 21\n",
      "My name is Aryan. Lives in Bangalore.Is learning Java, at age of 21\n",
      "My name is Aryan. Lives in Bangalore.Is learning Java, at age of 21\n"
     ]
    }
   ],
   "source": [
    "name = \"Aryan\"\n",
    "state = \"Bangalore\"\n",
    "lang = \"Java\"\n",
    "age = 21\n",
    "print('My name is',name,'.Lives in',state,'.Is learning',lang,'. at the age of',age)\n",
    "print(f'My name is {name}. Lives in {state}.Is learning {lang}, at age of {age}' ) # f-string\n",
    "print('My name is {}. Lives in {}.Is learning {}, at age of {}'.format(name,state,lang,age))"
   ]
  },
  {
   "cell_type": "code",
   "execution_count": 120,
   "id": "438799d8-4603-4bbe-81ae-2a46df261f77",
   "metadata": {},
   "outputs": [
    {
     "name": "stdout",
     "output_type": "stream",
     "text": [
      "5 + 6 = 11\n",
      "5 + 6 = -1\n",
      "5 + 6 = 30\n",
      "5 + 6 = 0.8333333333333334\n",
      "5 + 6 = 5\n",
      "5 + 6 = 0\n",
      "5 + 6 = 15625\n"
     ]
    }
   ],
   "source": [
    "a=5\n",
    "b=6\n",
    "\n",
    "print('{} + {} = {}'.format(a,b,a+b))\n",
    "print('{} + {} = {}'.format(a,b,a-b))\n",
    "print('{} + {} = {}'.format(a,b,a*b))\n",
    "print('{} + {} = {}'.format(a,b,a/b))\n",
    "\n",
    "print('{} + {} = {}'.format(a,b,a%b))\n",
    "print('{} + {} = {}'.format(a,b,a//b))\n",
    "print('{} + {} = {}'.format(a,b,a**b))"
   ]
  },
  {
   "cell_type": "code",
   "execution_count": 123,
   "id": "186fa62e-77a2-45db-8926-0c12f0973244",
   "metadata": {},
   "outputs": [
    {
     "name": "stdin",
     "output_type": "stream",
     "text": [
      "Ener number 19\n"
     ]
    },
    {
     "name": "stdout",
     "output_type": "stream",
     "text": [
      "19*1=19\n",
      "19*2=38\n",
      "19*3=57\n",
      "19*4=76\n",
      "19*5=95\n",
      "19*6=114\n",
      "19*7=133\n",
      "19*8=152\n",
      "19*9=171\n",
      "19*10=190\n"
     ]
    }
   ],
   "source": [
    "i = 1 \n",
    "\n",
    "num = int(input(\"Ener number\"))\n",
    "\n",
    "while i<=10:\n",
    "    print(f'{num}*{i}={num*i}')\n",
    "    i=i+1"
   ]
  },
  {
   "cell_type": "code",
   "execution_count": 124,
   "id": "6a42589c-f002-4307-a33f-074a0fc93d00",
   "metadata": {},
   "outputs": [
    {
     "data": {
      "text/plain": [
       "23"
      ]
     },
     "execution_count": 124,
     "metadata": {},
     "output_type": "execute_result"
    }
   ],
   "source": [
    "# SLICING : In python, we can slice into sub-strings. Start value shoul be lower, end value should be higher.\n",
    "\n",
    "new=\"we are studying python.\"\n",
    "len(new)"
   ]
  },
  {
   "cell_type": "code",
   "execution_count": 125,
   "id": "71b07447-3a48-4661-9872-7c59042ede3b",
   "metadata": {},
   "outputs": [
    {
     "data": {
      "text/plain": [
       "' ar'"
      ]
     },
     "execution_count": 125,
     "metadata": {},
     "output_type": "execute_result"
    }
   ],
   "source": [
    "new[2:5]"
   ]
  },
  {
   "cell_type": "code",
   "execution_count": 126,
   "id": "7fd97b5b-0f2a-4581-91a4-b4b023234fe4",
   "metadata": {},
   "outputs": [
    {
     "data": {
      "text/plain": [
       "'are studying'"
      ]
     },
     "execution_count": 126,
     "metadata": {},
     "output_type": "execute_result"
    }
   ],
   "source": [
    "new[3:15]"
   ]
  },
  {
   "cell_type": "code",
   "execution_count": 128,
   "id": "f4df6c17-4db1-42c4-adf2-4865ce1ab448",
   "metadata": {},
   "outputs": [
    {
     "data": {
      "text/plain": [
       "'tudying pyt'"
      ]
     },
     "execution_count": 128,
     "metadata": {},
     "output_type": "execute_result"
    }
   ],
   "source": [
    "new[-4:-15]\n",
    "\n",
    "new[8:19]"
   ]
  },
  {
   "cell_type": "code",
   "execution_count": 129,
   "id": "bb5d6fb4-e223-47eb-84b1-4cbb2b326b90",
   "metadata": {},
   "outputs": [
    {
     "data": {
      "text/plain": [
       "'tudying pyt'"
      ]
     },
     "execution_count": 129,
     "metadata": {},
     "output_type": "execute_result"
    }
   ],
   "source": [
    "new[-15:-4]"
   ]
  },
  {
   "cell_type": "code",
   "execution_count": 130,
   "id": "43d2c8c3-373c-41bc-ad1e-7516f23f743d",
   "metadata": {},
   "outputs": [
    {
     "data": {
      "text/plain": [
       "' etyg'"
      ]
     },
     "execution_count": 130,
     "metadata": {},
     "output_type": "execute_result"
    }
   ],
   "source": [
    "new[2:15:3]"
   ]
  },
  {
   "cell_type": "code",
   "execution_count": 131,
   "id": "e7cde7a8-174b-4e7e-921f-d4949a9d6765",
   "metadata": {},
   "outputs": [
    {
     "data": {
      "text/plain": [
       "''"
      ]
     },
     "execution_count": 131,
     "metadata": {},
     "output_type": "execute_result"
    }
   ],
   "source": [
    "new[-3:-10]"
   ]
  },
  {
   "cell_type": "code",
   "execution_count": 133,
   "id": "b0c5a0b8-4f06-47cd-a73a-fa558a42b253",
   "metadata": {},
   "outputs": [
    {
     "data": {
      "text/plain": [
       "'tudyi'"
      ]
     },
     "execution_count": 133,
     "metadata": {},
     "output_type": "execute_result"
    }
   ],
   "source": [
    "new[-15:-10]"
   ]
  },
  {
   "cell_type": "code",
   "execution_count": 134,
   "id": "bdffc2f4-199a-4b03-a498-d92b925a9c2c",
   "metadata": {},
   "outputs": [
    {
     "data": {
      "text/plain": [
       "'we are studying python.'"
      ]
     },
     "execution_count": 134,
     "metadata": {},
     "output_type": "execute_result"
    }
   ],
   "source": [
    "new[:]"
   ]
  },
  {
   "cell_type": "code",
   "execution_count": 135,
   "id": "a620ddc5-b487-4917-a490-4e5fb99a5d42",
   "metadata": {},
   "outputs": [
    {
     "data": {
      "text/plain": [
       "'we are'"
      ]
     },
     "execution_count": 135,
     "metadata": {},
     "output_type": "execute_result"
    }
   ],
   "source": [
    "new[:6]"
   ]
  },
  {
   "cell_type": "code",
   "execution_count": 137,
   "id": "8c7ff5b4-c0be-4a9b-8978-74addf6ce905",
   "metadata": {},
   "outputs": [
    {
     "data": {
      "text/plain": [
       "'are studying python.'"
      ]
     },
     "execution_count": 137,
     "metadata": {},
     "output_type": "execute_result"
    }
   ],
   "source": [
    "new[3:]"
   ]
  },
  {
   "cell_type": "code",
   "execution_count": 138,
   "id": "d9823df9-fe0b-414b-9ebd-ffd96acd542c",
   "metadata": {},
   "outputs": [
    {
     "data": {
      "text/plain": [
       "'?uoy era woh !olleh'"
      ]
     },
     "execution_count": 138,
     "metadata": {},
     "output_type": "execute_result"
    }
   ],
   "source": [
    "x  = \"hello! how are you?\"\n",
    "x[::-1] # [start : end : skip]"
   ]
  },
  {
   "cell_type": "code",
   "execution_count": 140,
   "id": "128de975-8d5b-4b6f-ac1f-f87ddd23cde6",
   "metadata": {},
   "outputs": [
    {
     "data": {
      "text/plain": [
       "'Today is beninging of python'"
      ]
     },
     "execution_count": 140,
     "metadata": {},
     "output_type": "execute_result"
    }
   ],
   "source": [
    "# STRING METHODS\n",
    "\n",
    "# capitalize() : converts first character of the string of capital letter.\n",
    "\n",
    "text = \"today is beninging of python\"\n",
    "text.capitalize()"
   ]
  },
  {
   "cell_type": "code",
   "execution_count": 141,
   "id": "6b09f739-1910-4158-91e3-dffdf2e26305",
   "metadata": {},
   "outputs": [
    {
     "data": {
      "text/plain": [
       "'Today Is Beninging Of Python'"
      ]
     },
     "execution_count": 141,
     "metadata": {},
     "output_type": "execute_result"
    }
   ],
   "source": [
    "# PROPER : Will capitalize the first letter for each word.\n",
    "\n",
    "text.title()"
   ]
  },
  {
   "cell_type": "code",
   "execution_count": 142,
   "id": "2ef28c4e-2ec0-484d-86f8-0b2f3f677b7d",
   "metadata": {},
   "outputs": [
    {
     "data": {
      "text/plain": [
       "'My Name Is Aryan'"
      ]
     },
     "execution_count": 142,
     "metadata": {},
     "output_type": "execute_result"
    }
   ],
   "source": [
    "# SWAPCASE : Converts lower to upper and vice-versa.\n",
    "\n",
    "q = \"mY nAME iS aRYAN\"\n",
    "q.swapcase()"
   ]
  },
  {
   "cell_type": "code",
   "execution_count": 145,
   "id": "b7773e3a-c317-4216-9bdc-431247c9098a",
   "metadata": {},
   "outputs": [
    {
     "data": {
      "text/plain": [
       "2"
      ]
     },
     "execution_count": 145,
     "metadata": {},
     "output_type": "execute_result"
    }
   ],
   "source": [
    "# COUNT : \n",
    "\n",
    "new = \"Python was easy today, it's going to get harder\"\n",
    "new.count('i')"
   ]
  },
  {
   "cell_type": "code",
   "execution_count": 146,
   "id": "35c8b9cd-2db8-4599-985b-e8b0a062669b",
   "metadata": {},
   "outputs": [
    {
     "data": {
      "text/plain": [
       "True"
      ]
     },
     "execution_count": 146,
     "metadata": {},
     "output_type": "execute_result"
    }
   ],
   "source": [
    "# isalnum : Checks for alphabetic and numeric\n",
    "\n",
    "words=\"Tsklfndskjfnjn87767898\"\n",
    "words.isalnum()"
   ]
  },
  {
   "cell_type": "code",
   "execution_count": 149,
   "id": "2a7cf712-2a6b-4ef4-a109-81a2abbada47",
   "metadata": {},
   "outputs": [
    {
     "data": {
      "text/plain": [
       "False"
      ]
     },
     "execution_count": 149,
     "metadata": {},
     "output_type": "execute_result"
    }
   ],
   "source": [
    "# isaplha() : Checks if all string elements are alphabets or not.\n",
    "\n",
    "data=\"asnjklasjd987897\"\n",
    "data.isalpha()"
   ]
  },
  {
   "cell_type": "code",
   "execution_count": 151,
   "id": "89b8d8ec-d25f-4eeb-9483-da610f5ff0eb",
   "metadata": {},
   "outputs": [
    {
     "data": {
      "text/plain": [
       "False"
      ]
     },
     "execution_count": 151,
     "metadata": {},
     "output_type": "execute_result"
    }
   ],
   "source": [
    "# islower : Checks if alphabets are in lowercase\n",
    "\n",
    "data=\"kjsfasfsdvrevxDAD\"\n",
    "data.islower()"
   ]
  },
  {
   "cell_type": "code",
   "execution_count": 153,
   "id": "a3974555-d0e8-4fdf-854c-148bf02cdf44",
   "metadata": {},
   "outputs": [
    {
     "data": {
      "text/plain": [
       "True"
      ]
     },
     "execution_count": 153,
     "metadata": {},
     "output_type": "execute_result"
    }
   ],
   "source": [
    "# isupper : Checks if alphabets are in uppercase.\n",
    "\n",
    "data=\"HGHJHJK\"\n",
    "data.isupper()"
   ]
  },
  {
   "cell_type": "code",
   "execution_count": 154,
   "id": "5def0937-86f7-4e04-8728-46d2e4cddcfa",
   "metadata": {},
   "outputs": [
    {
     "data": {
      "text/plain": [
       "True"
      ]
     },
     "execution_count": 154,
     "metadata": {},
     "output_type": "execute_result"
    }
   ],
   "source": [
    "# isdigit : Checks if numbers\n",
    "\n",
    "data=\"1433324\"\n",
    "data.isdigit()"
   ]
  },
  {
   "cell_type": "code",
   "execution_count": 158,
   "id": "7bc87d78-7aab-4358-9b33-a89b78a398c8",
   "metadata": {},
   "outputs": [
    {
     "data": {
      "text/plain": [
       "'I hope not to see you soon'"
      ]
     },
     "execution_count": 158,
     "metadata": {},
     "output_type": "execute_result"
    }
   ],
   "source": [
    "# replace() : replaces substring with given string\n",
    "\n",
    "sent=\"I hope to see you soon\"\n",
    "sent.replace(\"to\",\"not to\")"
   ]
  },
  {
   "cell_type": "code",
   "execution_count": 2,
   "id": "6f4b3de0-7cbb-48f1-9846-c8f75404ba9e",
   "metadata": {},
   "outputs": [],
   "source": [
    "# FIND() : The find() method finds the first occurence of the specified value. \n",
    "# This method returns -1 if value not found\n",
    "\n",
    "new_sent = \"This is a sample of new sent sentence. \""
   ]
  },
  {
   "cell_type": "code",
   "execution_count": 5,
   "id": "5752fd11-1436-4209-8a04-b30229657cc7",
   "metadata": {},
   "outputs": [
    {
     "data": {
      "text/plain": [
       "2"
      ]
     },
     "execution_count": 5,
     "metadata": {},
     "output_type": "execute_result"
    }
   ],
   "source": [
    "new_sent.find(\"i\")"
   ]
  },
  {
   "cell_type": "code",
   "execution_count": 6,
   "id": "fe0f186d-f4c2-4152-854a-00e11997cc99",
   "metadata": {},
   "outputs": [
    {
     "data": {
      "text/plain": [
       "11"
      ]
     },
     "execution_count": 6,
     "metadata": {},
     "output_type": "execute_result"
    }
   ],
   "source": [
    "new_sent.find(\"amp\")"
   ]
  },
  {
   "cell_type": "code",
   "execution_count": null,
   "id": "d8bc1247-9843-4523-8122-2413a5664568",
   "metadata": {},
   "outputs": [],
   "source": [
    "# INDEX : Finds the first occurence if specifies value\n",
    "# Raises exception if value is not found.\n",
    "# Almost as same as find() method but diff is it shows error."
   ]
  },
  {
   "cell_type": "code",
   "execution_count": 7,
   "id": "2b67f251-869d-45dc-98dd-0344c338df05",
   "metadata": {},
   "outputs": [
    {
     "data": {
      "text/plain": [
       "2"
      ]
     },
     "execution_count": 7,
     "metadata": {},
     "output_type": "execute_result"
    }
   ],
   "source": [
    "new_sent = \"This is a sample of new sent sentence.\"\n",
    "\n",
    "new_sent.index(\"i\")"
   ]
  },
  {
   "cell_type": "code",
   "execution_count": 8,
   "id": "481f919e-83a7-4fff-802d-7b45fb29838f",
   "metadata": {},
   "outputs": [
    {
     "data": {
      "text/plain": [
       "11"
      ]
     },
     "execution_count": 8,
     "metadata": {},
     "output_type": "execute_result"
    }
   ],
   "source": [
    "new_sent.index(\"amp\")"
   ]
  },
  {
   "cell_type": "code",
   "execution_count": 10,
   "id": "6839c81d-949c-4ee1-8c24-8a711c56f5ba",
   "metadata": {},
   "outputs": [
    {
     "data": {
      "text/plain": [
       "11"
      ]
     },
     "execution_count": 10,
     "metadata": {},
     "output_type": "execute_result"
    }
   ],
   "source": [
    "new_sent.index(\"amp\") # gives error when  data is incorrect"
   ]
  },
  {
   "cell_type": "code",
   "execution_count": null,
   "id": "54e157ab-8cc3-49cc-ace4-18f2483d9566",
   "metadata": {},
   "outputs": [],
   "source": [
    "# SPLIT : splits a string into a list. "
   ]
  },
  {
   "cell_type": "code",
   "execution_count": 16,
   "id": "bec86a9a-1adc-4d56-b31d-4fb010fb2b48",
   "metadata": {},
   "outputs": [
    {
     "data": {
      "text/plain": [
       "['Python',\n",
       " 'is',\n",
       " 'a',\n",
       " 'programming',\n",
       " 'language.',\n",
       " 'Python',\n",
       " 'is',\n",
       " 'interesting.']"
      ]
     },
     "execution_count": 16,
     "metadata": {},
     "output_type": "execute_result"
    }
   ],
   "source": [
    "para=\"Python-is-a-programming-language.-Python-is-interesting.\"\n",
    "\n",
    "new_str = para.split(\"-\")\n",
    "new_str\n",
    "\n",
    "# for i in para:\n",
    "#     if len(i)<8:\n",
    "#         print(i)"
   ]
  },
  {
   "cell_type": "code",
   "execution_count": 18,
   "id": "18a985b0-e4d2-4f83-bb58-2bfd8485312f",
   "metadata": {},
   "outputs": [
    {
     "name": "stdout",
     "output_type": "stream",
     "text": [
      "Python\n",
      "is\n",
      "a\n",
      "Python\n",
      "is\n"
     ]
    }
   ],
   "source": [
    "new_str = para.split(\"-\")\n",
    "for i in new_str:\n",
    "    if len(i)<8:\n",
    "        print(i)"
   ]
  },
  {
   "cell_type": "code",
   "execution_count": 29,
   "id": "d8d9742c-d940-4d2e-b9e6-4e17cedc008c",
   "metadata": {},
   "outputs": [
    {
     "name": "stdout",
     "output_type": "stream",
     "text": [
      "There are 27 letters in the string\n",
      "There are 7 numbers in the string\n",
      "There are 2 special characters in the string\n"
     ]
    }
   ],
   "source": [
    "data=\"lakjfkljJLLSdnjvns&^43232afhkmi39ewf\"\n",
    "\n",
    "ltrs = 0\n",
    "digits = 0\n",
    "sp_char = 0\n",
    "\n",
    "for x in data:\n",
    "    if x.isalpha():\n",
    "        ltrs+=1\n",
    "    elif x.isdigit():\n",
    "        digits+=1\n",
    "    else:\n",
    "        sp_char+=1\n",
    "\n",
    "print(f'There are {ltrs} letters in the string')\n",
    "print(f'There are {digits} numbers in the string')\n",
    "print(f'There are {sp_char} special characters in the string')\n",
    "\n",
    "# data.isalnum()\n",
    "# data.isalpha()"
   ]
  },
  {
   "cell_type": "code",
   "execution_count": 31,
   "id": "0007b356-f77c-476a-96b4-e8bcb6b10319",
   "metadata": {},
   "outputs": [
    {
     "name": "stdout",
     "output_type": "stream",
     "text": [
      "[]\n"
     ]
    },
    {
     "data": {
      "text/plain": [
       "list"
      ]
     },
     "execution_count": 31,
     "metadata": {},
     "output_type": "execute_result"
    }
   ],
   "source": [
    "# LIST : Collection of diff datatypes which is ordered and modifiable.\n",
    "\n",
    "list1 = [] #Allows empty list\n",
    "print(list1)\n",
    "type(list1)"
   ]
  },
  {
   "cell_type": "code",
   "execution_count": 33,
   "id": "65d438e1-f4e4-43f1-89c3-522ac9aa5d9d",
   "metadata": {},
   "outputs": [
    {
     "name": "stdout",
     "output_type": "stream",
     "text": [
      "{2, 3, 4, 6, 7, 9}\n"
     ]
    },
    {
     "data": {
      "text/plain": [
       "set"
      ]
     },
     "execution_count": 33,
     "metadata": {},
     "output_type": "execute_result"
    }
   ],
   "source": [
    "list2 = {4,7,2,9,3,6} #Allows same datatype list\n",
    "print(list2)\n",
    "type(list2)"
   ]
  },
  {
   "cell_type": "code",
   "execution_count": 35,
   "id": "29d2558b-598f-40ce-89ee-b08a478376f5",
   "metadata": {},
   "outputs": [
    {
     "data": {
      "text/plain": [
       "list"
      ]
     },
     "execution_count": 35,
     "metadata": {},
     "output_type": "execute_result"
    }
   ],
   "source": [
    "#Allows mixed data list\n",
    "list3 = [2,3,4,5,598,\"xyz\",27,True, None, 5-4j, [5,6,7.23,'muscle'],(3,4,2,5,12,99)]\n",
    "type(list3)"
   ]
  },
  {
   "cell_type": "code",
   "execution_count": 36,
   "id": "21e5425a-cde9-480c-b0f4-6460bcc8494f",
   "metadata": {},
   "outputs": [
    {
     "name": "stdout",
     "output_type": "stream",
     "text": [
      "[6, 4, 3, 'kjsd', 876.3, -9, 'yacp']\n"
     ]
    }
   ],
   "source": [
    "#List preserve order/ inside values\n",
    "\n",
    "list4 = [6,4,3,'kjsd',876.3,-9,'yacp']\n",
    "print(list4)"
   ]
  },
  {
   "cell_type": "code",
   "execution_count": 38,
   "id": "7364cb80-0341-4481-bab0-60ac27216169",
   "metadata": {},
   "outputs": [
    {
     "data": {
      "text/plain": [
       "[2, 3, 5, 1, 6, 56, 34, -1, 56]"
      ]
     },
     "execution_count": 38,
     "metadata": {},
     "output_type": "execute_result"
    }
   ],
   "source": [
    "# Concatenate\n",
    "\n",
    "list1=[2,3,5,1,6,56,34,-1]\n",
    "x = [56]\n",
    "\n",
    "list1 + x"
   ]
  },
  {
   "cell_type": "code",
   "execution_count": 49,
   "id": "0eb5d31b-d09f-40ec-9018-571753ffbbae",
   "metadata": {},
   "outputs": [
    {
     "data": {
      "text/plain": [
       "[54, 3, 5, 2, 0, 543, 'etc', 32, 4]"
      ]
     },
     "execution_count": 49,
     "metadata": {},
     "output_type": "execute_result"
    }
   ],
   "source": [
    "# Update : Changing old values entirely with new values.\n",
    "\n",
    "new_l=[54,3,5,2,0,543,\"etc\",32,4]\n",
    "new_l"
   ]
  },
  {
   "cell_type": "code",
   "execution_count": 41,
   "id": "e8dc0103-e353-4a31-ab70-3903754bf27c",
   "metadata": {},
   "outputs": [
    {
     "data": {
      "text/plain": [
       "[54, 3, -11, 2, 0, 543, 'etc', 32, 4]"
      ]
     },
     "execution_count": 41,
     "metadata": {},
     "output_type": "execute_result"
    }
   ],
   "source": [
    "new_l [2] = -11\n",
    "new_l"
   ]
  },
  {
   "cell_type": "code",
   "execution_count": 52,
   "id": "afe7e4cd-0606-4cd2-aa42-907d64ffacbe",
   "metadata": {},
   "outputs": [
    {
     "data": {
      "text/plain": [
       "[10, 2, 0, 543, 'etc', 32, 4]"
      ]
     },
     "execution_count": 52,
     "metadata": {},
     "output_type": "execute_result"
    }
   ],
   "source": [
    "new_l[0:2] = [10]\n",
    "new_l"
   ]
  },
  {
   "cell_type": "code",
   "execution_count": null,
   "id": "a602c152-164c-4424-8282-f26640ac86c9",
   "metadata": {},
   "outputs": [],
   "source": [
    "# DELETE : Del statement can be used to delete an element from the list. Also deletes items from start index to end index."
   ]
  },
  {
   "cell_type": "code",
   "execution_count": 56,
   "id": "b0eb46b6-5825-418a-81c4-532e39ca5c81",
   "metadata": {},
   "outputs": [
    {
     "data": {
      "text/plain": [
       "[54, 3, 5, 2, 0, 543, 'etc', 32]"
      ]
     },
     "execution_count": 56,
     "metadata": {},
     "output_type": "execute_result"
    }
   ],
   "source": [
    "new_l=[54,3,5,2,0,543,\"etc\",32,4] \n",
    "\n",
    "del new_l [-1]\n",
    "new_l"
   ]
  },
  {
   "cell_type": "code",
   "execution_count": null,
   "id": "17a4ac3b-0d40-4527-a8b1-4f4edd423036",
   "metadata": {},
   "outputs": [],
   "source": [
    "# LIST METHOD : Collection of mixed datatypes. Separated values within square brackets. '[]'"
   ]
  },
  {
   "cell_type": "code",
   "execution_count": 59,
   "id": "8920fcd4-7534-4049-abc1-3d24cfdbe3ec",
   "metadata": {},
   "outputs": [
    {
     "data": {
      "text/plain": [
       "[23, 45, 12, 34, 25, 65, 87, 89, 99]"
      ]
     },
     "execution_count": 59,
     "metadata": {},
     "output_type": "execute_result"
    }
   ],
   "source": [
    "l1 = [23,45,12,34,25,65,87,89]\n",
    "l1.append(99)\n",
    "l1"
   ]
  },
  {
   "cell_type": "code",
   "execution_count": 61,
   "id": "ef039d67-9016-49f7-bbf4-fdc43a7981d3",
   "metadata": {},
   "outputs": [
    {
     "data": {
      "text/plain": [
       "[23, 45, 12, 34, 25, 65, 87, 89, 99, [2, 4, 6], [2, 4, 6]]"
      ]
     },
     "execution_count": 61,
     "metadata": {},
     "output_type": "execute_result"
    }
   ],
   "source": [
    "l1.append([2,4,6])\n",
    "l1"
   ]
  },
  {
   "cell_type": "code",
   "execution_count": 71,
   "id": "158c0cc2-88f0-448c-aa18-04d21219cc93",
   "metadata": {},
   "outputs": [
    {
     "name": "stdout",
     "output_type": "stream",
     "text": [
      "['Porsche']\n",
      "['Porsche', 'Ferrari']\n",
      "['Porsche', 'Ferrari', 'Benz']\n"
     ]
    }
   ],
   "source": [
    "cars = ['BMW','Porsche','Ferrari','Tata','Nissan','Benz']\n",
    "\n",
    "new_cars = []\n",
    "for i in cars:\n",
    "    if \"e\" in i:\n",
    "        new_cars.append(i)\n",
    "        print(new_cars)"
   ]
  },
  {
   "cell_type": "code",
   "execution_count": 27,
   "id": "3f2af44c-8f9e-493b-8d49-b649b42003f7",
   "metadata": {},
   "outputs": [
    {
     "data": {
      "text/plain": [
       "2"
      ]
     },
     "execution_count": 27,
     "metadata": {},
     "output_type": "execute_result"
    }
   ],
   "source": [
    "# COUNT \n",
    "\n",
    "s1=[2,3,4,6,6,2,8,6,[3,4,6,3]]\n",
    "s1.count(6)\n",
    "s1[-1].count(3)"
   ]
  },
  {
   "cell_type": "code",
   "execution_count": 80,
   "id": "e0438947-409c-4e3f-858d-58ce0da737ff",
   "metadata": {},
   "outputs": [
    {
     "ename": "TypeError",
     "evalue": "'>' not supported between instances of 'list' and 'int'",
     "output_type": "error",
     "traceback": [
      "\u001b[1;31m---------------------------------------------------------------------------\u001b[0m",
      "\u001b[1;31mTypeError\u001b[0m                                 Traceback (most recent call last)",
      "Cell \u001b[1;32mIn[80], line 3\u001b[0m\n\u001b[0;32m      1\u001b[0m \u001b[38;5;66;03m# MAX - Returns elements of list with maximum value\u001b[39;00m\n\u001b[1;32m----> 3\u001b[0m \u001b[38;5;28mmax\u001b[39m(s1)\n",
      "\u001b[1;31mTypeError\u001b[0m: '>' not supported between instances of 'list' and 'int'"
     ]
    }
   ],
   "source": [
    "# MAX - Returns elements of list with maximum value\n",
    "\n",
    "max(s1)"
   ]
  },
  {
   "cell_type": "code",
   "execution_count": 82,
   "id": "42c39322-6f1d-44f0-9c08-9898c8044751",
   "metadata": {},
   "outputs": [
    {
     "data": {
      "text/plain": [
       "1"
      ]
     },
     "execution_count": 82,
     "metadata": {},
     "output_type": "execute_result"
    }
   ],
   "source": [
    "s2=[2,3,4,1,4,45,23,544,900]\n",
    "max(s2)\n",
    "min(s2)"
   ]
  },
  {
   "cell_type": "code",
   "execution_count": 88,
   "id": "d5740eeb-13a1-477d-94ac-7493b0cf5c20",
   "metadata": {},
   "outputs": [
    {
     "data": {
      "text/plain": [
       "[1, 2, 3, 4, 5, 'p', 'y', 't', 'h', 'o', 'n', 6, 7, 8, 9]"
      ]
     },
     "execution_count": 88,
     "metadata": {},
     "output_type": "execute_result"
    }
   ],
   "source": [
    "# EXTEND - Adds contents of sequence of list\n",
    "\n",
    "s3=[1,2,3,4,5]\n",
    "s3.extend('python')\n",
    "s3.extend([6,7,8,9])\n",
    "\n",
    "s3\n"
   ]
  },
  {
   "cell_type": "code",
   "execution_count": 91,
   "id": "174dddbb-0b5a-4436-9508-e8af699381fb",
   "metadata": {},
   "outputs": [
    {
     "data": {
      "text/plain": [
       "11"
      ]
     },
     "execution_count": 91,
     "metadata": {},
     "output_type": "execute_result"
    }
   ],
   "source": [
    "s3.index(6)"
   ]
  },
  {
   "cell_type": "code",
   "execution_count": 5,
   "id": "cf1ec145-b75a-444a-988f-ef60a64b6daa",
   "metadata": {},
   "outputs": [
    {
     "ename": "TypeError",
     "evalue": "insert expected 2 arguments, got 1",
     "output_type": "error",
     "traceback": [
      "\u001b[1;31m---------------------------------------------------------------------------\u001b[0m",
      "\u001b[1;31mTypeError\u001b[0m                                 Traceback (most recent call last)",
      "Cell \u001b[1;32mIn[5], line 6\u001b[0m\n\u001b[0;32m      4\u001b[0m s4\u001b[38;5;241m.\u001b[39minsert(\u001b[38;5;241m3\u001b[39m,\u001b[38;5;241m99\u001b[39m)\n\u001b[0;32m      5\u001b[0m s4\u001b[38;5;241m.\u001b[39minsert(\u001b[38;5;241m4\u001b[39m,[\u001b[38;5;241m7\u001b[39m,\u001b[38;5;241m8\u001b[39m,\u001b[38;5;241m9\u001b[39m])\n\u001b[1;32m----> 6\u001b[0m s4[\u001b[38;5;241m4\u001b[39m]\u001b[38;5;241m.\u001b[39minsert([\u001b[38;5;241m3\u001b[39m,\u001b[38;5;124m'\u001b[39m\u001b[38;5;124mabc\u001b[39m\u001b[38;5;124m'\u001b[39m,\u001b[38;5;124m'\u001b[39m\u001b[38;5;124mxyz\u001b[39m\u001b[38;5;124m'\u001b[39m])\n\u001b[0;32m      7\u001b[0m s4\n",
      "\u001b[1;31mTypeError\u001b[0m: insert expected 2 arguments, got 1"
     ]
    }
   ],
   "source": [
    "# INSERT - Inserts value in the index point\n",
    "\n",
    "s4=[2,3,4,5,1,43,]\n",
    "s4.insert(3,99)\n",
    "s4.insert(4,[7,8,9])\n",
    "s4[4].insert([3,'abc','xyz'])\n",
    "s4"
   ]
  },
  {
   "cell_type": "code",
   "execution_count": 7,
   "id": "cdfd0cd7-9525-4586-90f9-3053a2b8ec60",
   "metadata": {},
   "outputs": [
    {
     "data": {
      "text/plain": [
       "1"
      ]
     },
     "execution_count": 7,
     "metadata": {},
     "output_type": "execute_result"
    }
   ],
   "source": [
    "# POP : Removes and returns the last value/object from the list.\n",
    "\n",
    "s4=[3,5,2,6,[34,4,2,6,8,43],132,5,1]\n",
    "s4.pop()"
   ]
  },
  {
   "cell_type": "code",
   "execution_count": 8,
   "id": "5a964e8b-ee22-43c2-a167-824c0b76c7a6",
   "metadata": {},
   "outputs": [
    {
     "data": {
      "text/plain": [
       "[3, 5, 2, 6, [34, 4, 2, 6, 8, 43], 132, 5]"
      ]
     },
     "execution_count": 8,
     "metadata": {},
     "output_type": "execute_result"
    }
   ],
   "source": [
    "s4 "
   ]
  },
  {
   "cell_type": "code",
   "execution_count": 9,
   "id": "f5cde145-d6f4-42f5-8c5f-a7e34972b294",
   "metadata": {},
   "outputs": [
    {
     "data": {
      "text/plain": [
       "[34, 4, 2, 6, 8, 43]"
      ]
     },
     "execution_count": 9,
     "metadata": {},
     "output_type": "execute_result"
    }
   ],
   "source": [
    "s4.pop(4)"
   ]
  },
  {
   "cell_type": "code",
   "execution_count": 10,
   "id": "163b6194-cf62-4fe1-9808-43ab1bbe063a",
   "metadata": {},
   "outputs": [
    {
     "data": {
      "text/plain": [
       "[3, 5, 2, 6, 132, 5]"
      ]
     },
     "execution_count": 10,
     "metadata": {},
     "output_type": "execute_result"
    }
   ],
   "source": [
    "s4"
   ]
  },
  {
   "cell_type": "code",
   "execution_count": null,
   "id": "88904270-5437-4b50-af9d-68877a9276e3",
   "metadata": {},
   "outputs": [],
   "source": [
    "# TUPLE : Collection of diff datatypes which is ordered and unchangeable(immutable)."
   ]
  },
  {
   "cell_type": "code",
   "execution_count": 12,
   "id": "7e1049c2-b1fe-438b-bb81-b0aa46686849",
   "metadata": {},
   "outputs": [
    {
     "name": "stdout",
     "output_type": "stream",
     "text": [
      "<class 'tuple'>\n"
     ]
    }
   ],
   "source": [
    "t1=()\n",
    "print(type(t1))"
   ]
  },
  {
   "cell_type": "code",
   "execution_count": 14,
   "id": "eb6940ff-b6ce-43c6-99cb-95e65366ed37",
   "metadata": {},
   "outputs": [
    {
     "name": "stdout",
     "output_type": "stream",
     "text": [
      "<class 'tuple'>\n"
     ]
    }
   ],
   "source": [
    "T = (23,) # Comma after value in bracket makes it tuple.\n",
    "print(type(T))"
   ]
  },
  {
   "cell_type": "code",
   "execution_count": 15,
   "id": "a41f8180-428e-44ba-b268-dbcaa9553586",
   "metadata": {},
   "outputs": [
    {
     "data": {
      "text/plain": [
       "tuple"
      ]
     },
     "execution_count": 15,
     "metadata": {},
     "output_type": "execute_result"
    }
   ],
   "source": [
    "t3 = (23,'abcd',43,56,'34sd5',True, 23.1,[3,4,5]) # Allows Mixed-data\n",
    "type(t3)"
   ]
  },
  {
   "cell_type": "code",
   "execution_count": 20,
   "id": "07a26767-c816-4bcb-abe0-96d770b6b565",
   "metadata": {},
   "outputs": [
    {
     "data": {
      "text/plain": [
       "(34, 65, 2, 2, 2, 67, 9)"
      ]
     },
     "execution_count": 20,
     "metadata": {},
     "output_type": "execute_result"
    }
   ],
   "source": [
    "t4 = (34,65,2,2,2,67,9) # Allows repeated data/values.\n",
    "t4"
   ]
  },
  {
   "cell_type": "code",
   "execution_count": 26,
   "id": "b1369b92-35ad-4ad0-af5c-e4e4a750e0b3",
   "metadata": {},
   "outputs": [
    {
     "name": "stdout",
     "output_type": "stream",
     "text": [
      "There are [2, 4, 6, 8, 34] even and [45, 45, 5, 7, 9, 5, 23, 67] odd values\n"
     ]
    }
   ],
   "source": [
    "t1 = (45,45,2,4,5,6,7,8,9,34,5,23,67)\n",
    "\n",
    "even = []\n",
    "odd = []\n",
    "\n",
    "for i in t1:\n",
    "    if i%2==0:\n",
    "        even.append(i)\n",
    "    else:\n",
    "        odd.append(i)\n",
    "\n",
    "print(f'There are {even} even and {odd} odd values')\n",
    "\n"
   ]
  },
  {
   "cell_type": "code",
   "execution_count": 28,
   "id": "64fb1551-afed-4ea1-a990-9bd237117ccd",
   "metadata": {},
   "outputs": [],
   "source": [
    "# SETS : Unique and distinct values which do not preserve the order. Are comma(,) separated values stored in curly braces '{}'"
   ]
  },
  {
   "cell_type": "code",
   "execution_count": 34,
   "id": "4191d099-c615-4003-b9db-d66494752006",
   "metadata": {},
   "outputs": [
    {
     "name": "stdout",
     "output_type": "stream",
     "text": [
      "{}\n",
      "<class 'dict'>\n"
     ]
    }
   ],
   "source": [
    "set1 = {} # EMPTY SET\n",
    "print(set1)\n",
    "print(type(set1))"
   ]
  },
  {
   "cell_type": "code",
   "execution_count": 33,
   "id": "ee144ce9-b3db-43ed-babb-6dc8ada43241",
   "metadata": {},
   "outputs": [
    {
     "data": {
      "text/plain": [
       "set"
      ]
     },
     "execution_count": 33,
     "metadata": {},
     "output_type": "execute_result"
    }
   ],
   "source": [
    "set2 = set()\n",
    "type(set2)"
   ]
  },
  {
   "cell_type": "code",
   "execution_count": 42,
   "id": "6022359c-cbf2-4ad0-adf6-e78beb00f4ce",
   "metadata": {},
   "outputs": [
    {
     "data": {
      "text/plain": [
       "{(2, 4, 6), 2, 3, 4, True, 'adcs'}"
      ]
     },
     "execution_count": 42,
     "metadata": {},
     "output_type": "execute_result"
    }
   ],
   "source": [
    "set3 = {2,2,3,3,4,'adcs',(2,4,6),True,(1)} # SETS doesn't allow repeated data but allows mixed values except lists.\n",
    "set3"
   ]
  },
  {
   "cell_type": "code",
   "execution_count": 43,
   "id": "50ec5b2d-2cbe-41b4-8535-9c064ac6d819",
   "metadata": {},
   "outputs": [
    {
     "data": {
      "text/plain": [
       "{-100, -12, -1, 2, 3, 4, 5, 22, 23, 34}"
      ]
     },
     "execution_count": 43,
     "metadata": {},
     "output_type": "execute_result"
    }
   ],
   "source": [
    "set4 = {3,4,2,5,34,34,23,22,-1,-12,-100}\n",
    "set4"
   ]
  },
  {
   "cell_type": "code",
   "execution_count": 49,
   "id": "0ea1d24b-83ac-41ba-b012-11a3c9c38990",
   "metadata": {},
   "outputs": [
    {
     "data": {
      "text/plain": [
       "{-1, -100, -12, 2, 22, 23, 3, 34, 4, 5, 6, 66, 88, 99, 'python'}"
      ]
     },
     "execution_count": 49,
     "metadata": {},
     "output_type": "execute_result"
    }
   ],
   "source": [
    "set4.add(99) # Adds only 1 value\n",
    "set4"
   ]
  },
  {
   "cell_type": "code",
   "execution_count": 46,
   "id": "d80bb862-2320-4316-a437-0390dfd38fe4",
   "metadata": {},
   "outputs": [
    {
     "data": {
      "text/plain": [
       "{-1, -100, -12, 2, 22, 23, 3, 34, 4, 5, 99, 'python'}"
      ]
     },
     "execution_count": 46,
     "metadata": {},
     "output_type": "execute_result"
    }
   ],
   "source": [
    "set4.add(\"python\")\n",
    "set4"
   ]
  },
  {
   "cell_type": "code",
   "execution_count": 50,
   "id": "ec7aa64f-394f-47cb-bbe0-023076128729",
   "metadata": {},
   "outputs": [
    {
     "data": {
      "text/plain": [
       "{-1, -100, -12, 2, 22, 23, 3, 34, 4, 5, 6, 66, 88, 99, 'python'}"
      ]
     },
     "execution_count": 50,
     "metadata": {},
     "output_type": "execute_result"
    }
   ],
   "source": [
    "set4.update((88,99,66)) # Adds more than 1 values.\n",
    "set4"
   ]
  },
  {
   "cell_type": "code",
   "execution_count": 57,
   "id": "ee0fbd52-e46f-4cb3-aa4a-a1ad8a928c23",
   "metadata": {},
   "outputs": [
    {
     "ename": "KeyError",
     "evalue": "99",
     "output_type": "error",
     "traceback": [
      "\u001b[1;31m---------------------------------------------------------------------------\u001b[0m",
      "\u001b[1;31mKeyError\u001b[0m                                  Traceback (most recent call last)",
      "Cell \u001b[1;32mIn[57], line 3\u001b[0m\n\u001b[0;32m      1\u001b[0m \u001b[38;5;66;03m# REMOVE : Eliminates the value and gives error after re-run.\u001b[39;00m\n\u001b[1;32m----> 3\u001b[0m set4\u001b[38;5;241m.\u001b[39mremove(\u001b[38;5;241m99\u001b[39m)\n\u001b[0;32m      4\u001b[0m set4\n",
      "\u001b[1;31mKeyError\u001b[0m: 99"
     ]
    }
   ],
   "source": [
    "# REMOVE : Eliminates the value and gives error after re-run.\n",
    "\n",
    "set4.remove(99)\n",
    "set4"
   ]
  },
  {
   "cell_type": "code",
   "execution_count": 56,
   "id": "0251b808-2e4b-4ef8-b7a9-a1b3c4925ed0",
   "metadata": {},
   "outputs": [
    {
     "data": {
      "text/plain": [
       "{-1, -100, -12, 2, 22, 23, 3, 34, 4, 5, 6, 66, 88, 'python'}"
      ]
     },
     "execution_count": 56,
     "metadata": {},
     "output_type": "execute_result"
    }
   ],
   "source": [
    "set4.discard(99) # Even if value is missing, it will show the set.\n",
    "set4 "
   ]
  },
  {
   "cell_type": "code",
   "execution_count": 59,
   "id": "c48012a5-b3db-420a-a49e-be06dc20d7c1",
   "metadata": {},
   "outputs": [
    {
     "data": {
      "text/plain": [
       "{-1, -100, -12, 2, 22, 23, 3, 34, 4, 5, 6, 66, 88, 'python'}"
      ]
     },
     "execution_count": 59,
     "metadata": {},
     "output_type": "execute_result"
    }
   ],
   "source": [
    "set4.discard((66,88))\n",
    "set4"
   ]
  },
  {
   "cell_type": "code",
   "execution_count": 62,
   "id": "24752a87-0455-485f-a4cd-41fc64681a8c",
   "metadata": {},
   "outputs": [],
   "source": [
    "x = [101,-100,789,22,3] # Deleting or removing can be performed through 'for' loop method.\n",
    "\n",
    "for i in x:\n",
    "    set4.discard(i)"
   ]
  },
  {
   "cell_type": "code",
   "execution_count": 61,
   "id": "65a72780-30a6-4757-9b4e-b44557a90ed6",
   "metadata": {},
   "outputs": [
    {
     "data": {
      "text/plain": [
       "{-1, -12, 2, 23, 34, 4, 5, 6, 66, 88, 'python'}"
      ]
     },
     "execution_count": 61,
     "metadata": {},
     "output_type": "execute_result"
    }
   ],
   "source": [
    "set4"
   ]
  },
  {
   "cell_type": "code",
   "execution_count": 73,
   "id": "4b6174e1-6b03-44c0-aeda-a6e0b98437ba",
   "metadata": {},
   "outputs": [],
   "source": [
    "# UNION - Gives output of all values except duplicates."
   ]
  },
  {
   "cell_type": "code",
   "execution_count": 66,
   "id": "bc14f46b-5260-4f4e-9de9-5138c00cb432",
   "metadata": {},
   "outputs": [
    {
     "name": "stdout",
     "output_type": "stream",
     "text": [
      "{3, 4, 5, 12, 756, 'abc', -100}\n",
      "{3, 4, 5, 6, 100, 12, 'xyz'}\n"
     ]
    }
   ],
   "source": [
    "A = (3,4,5,12,756,-100,'abc')\n",
    "B = (3,4,5,6,12,100,'xyz')\n",
    "\n",
    "setA = set(A)\n",
    "setB = set(B)\n",
    "\n",
    "print(setA)\n",
    "print(setB)"
   ]
  },
  {
   "cell_type": "code",
   "execution_count": 67,
   "id": "b95ed97c-e286-4f44-8136-3b4323d2477f",
   "metadata": {},
   "outputs": [
    {
     "data": {
      "text/plain": [
       "{-100, 100, 12, 3, 4, 5, 6, 756, 'abc', 'xyz'}"
      ]
     },
     "execution_count": 67,
     "metadata": {},
     "output_type": "execute_result"
    }
   ],
   "source": [
    "setA.union(setB)"
   ]
  },
  {
   "cell_type": "code",
   "execution_count": 68,
   "id": "d82df42c-7704-4977-9cd4-11c10dff3d18",
   "metadata": {},
   "outputs": [
    {
     "data": {
      "text/plain": [
       "{-100, 100, 12, 3, 4, 5, 6, 756, 'abc', 'xyz'}"
      ]
     },
     "execution_count": 68,
     "metadata": {},
     "output_type": "execute_result"
    }
   ],
   "source": [
    "setA | setB"
   ]
  },
  {
   "cell_type": "code",
   "execution_count": 74,
   "id": "6aa536a6-66bb-41e1-a4df-410b6f4a3588",
   "metadata": {},
   "outputs": [],
   "source": [
    "# INTERSECTION - Gives only duplicate values of the set."
   ]
  },
  {
   "cell_type": "code",
   "execution_count": 71,
   "id": "c90f4845-c8cd-45e4-b51f-cdacf3e65052",
   "metadata": {},
   "outputs": [
    {
     "data": {
      "text/plain": [
       "{3, 4, 5, 12}"
      ]
     },
     "execution_count": 71,
     "metadata": {},
     "output_type": "execute_result"
    }
   ],
   "source": [
    "setA.intersection(setB)"
   ]
  },
  {
   "cell_type": "code",
   "execution_count": 72,
   "id": "40b5a4ab-cdcd-44be-a730-ae5e42d6add4",
   "metadata": {},
   "outputs": [
    {
     "data": {
      "text/plain": [
       "{3, 4, 5, 12}"
      ]
     },
     "execution_count": 72,
     "metadata": {},
     "output_type": "execute_result"
    }
   ],
   "source": [
    "setA & setB"
   ]
  },
  {
   "cell_type": "code",
   "execution_count": 79,
   "id": "c47e13b8-bf1f-48a0-b136-d2e3acbc1145",
   "metadata": {},
   "outputs": [],
   "source": [
    "# DIFFERENCE - Gives the unique values of the sets."
   ]
  },
  {
   "cell_type": "code",
   "execution_count": 77,
   "id": "60a75b8d-f89c-4660-9dd2-37949076b8fe",
   "metadata": {},
   "outputs": [
    {
     "data": {
      "text/plain": [
       "{-100, 756, 'abc'}"
      ]
     },
     "execution_count": 77,
     "metadata": {},
     "output_type": "execute_result"
    }
   ],
   "source": [
    "setA.difference(setB)"
   ]
  },
  {
   "cell_type": "code",
   "execution_count": 78,
   "id": "ec50e6ec-bbba-46d8-8bfb-a0190ad5b836",
   "metadata": {},
   "outputs": [
    {
     "data": {
      "text/plain": [
       "{-100, 756, 'abc'}"
      ]
     },
     "execution_count": 78,
     "metadata": {},
     "output_type": "execute_result"
    }
   ],
   "source": [
    "setA - setB"
   ]
  },
  {
   "cell_type": "code",
   "execution_count": null,
   "id": "115d5a69-2426-4bc5-8e88-1de666e50eed",
   "metadata": {},
   "outputs": [],
   "source": [
    "# DICTIONARIES : Collection of elements which iis stored as key and value pairs with key = unique and value = repeated."
   ]
  },
  {
   "cell_type": "code",
   "execution_count": 80,
   "id": "41d74c4d-bebe-4e3f-8212-7dbaa233d143",
   "metadata": {},
   "outputs": [
    {
     "data": {
      "text/plain": [
       "{'name': 'A', 'age': 23, 'city': 'Nashik'}"
      ]
     },
     "execution_count": 80,
     "metadata": {},
     "output_type": "execute_result"
    }
   ],
   "source": [
    "new = {'name':'A','age':23,'city':'Nashik'}\n",
    "new"
   ]
  },
  {
   "cell_type": "code",
   "execution_count": 81,
   "id": "d13b00ec-6af2-43fb-a7ae-d5b58c41e87d",
   "metadata": {},
   "outputs": [
    {
     "data": {
      "text/plain": [
       "3"
      ]
     },
     "execution_count": 81,
     "metadata": {},
     "output_type": "execute_result"
    }
   ],
   "source": [
    "len(new)"
   ]
  },
  {
   "cell_type": "code",
   "execution_count": 82,
   "id": "37eb598d-9e8f-4bc2-9347-7fc712a94d58",
   "metadata": {},
   "outputs": [
    {
     "data": {
      "text/plain": [
       "dict_keys(['name', 'age', 'city'])"
      ]
     },
     "execution_count": 82,
     "metadata": {},
     "output_type": "execute_result"
    }
   ],
   "source": [
    "new.keys()"
   ]
  },
  {
   "cell_type": "code",
   "execution_count": 84,
   "id": "e069d52d-e45a-4d3c-8e50-c55559e30ff2",
   "metadata": {},
   "outputs": [
    {
     "data": {
      "text/plain": [
       "dict_values(['A', 23, 'Nashik'])"
      ]
     },
     "execution_count": 84,
     "metadata": {},
     "output_type": "execute_result"
    }
   ],
   "source": [
    "new.values()"
   ]
  },
  {
   "cell_type": "code",
   "execution_count": 85,
   "id": "3304a0df-cd5e-445f-b945-8eeb0bcc2502",
   "metadata": {},
   "outputs": [
    {
     "data": {
      "text/plain": [
       "{'name': ['eric', 'priya', 'Kshitij', 'Vansh', 'Rohan'],\n",
       " 'age': [21, 22, 23, 24, 25],\n",
       " 'city': ['Bombay', 'Chennai', 'Pune', 'Delhi', 'Gujaraat']}"
      ]
     },
     "execution_count": 85,
     "metadata": {},
     "output_type": "execute_result"
    }
   ],
   "source": [
    "new_dict = {'name':['eric','priya','Kshitij','Vansh','Rohan'], \n",
    "           'age': [21,22,23,24,25],\n",
    "           'city': ['Bombay','Chennai','Pune','Delhi','Gujaraat']}\n",
    "new_dict"
   ]
  },
  {
   "cell_type": "code",
   "execution_count": 87,
   "id": "900b608c-c3ab-43b4-ae92-997e84a571e9",
   "metadata": {},
   "outputs": [
    {
     "data": {
      "text/plain": [
       "['Kshitij', 'Vansh', 'Rohan']"
      ]
     },
     "execution_count": 87,
     "metadata": {},
     "output_type": "execute_result"
    }
   ],
   "source": [
    "new_dict['name'][2:5] # This is an eg of KEY INDEXING."
   ]
  },
  {
   "cell_type": "code",
   "execution_count": 88,
   "id": "cdd75d35-aae8-4fdc-8929-2600a807184d",
   "metadata": {},
   "outputs": [
    {
     "data": {
      "text/plain": [
       "'Rohan'"
      ]
     },
     "execution_count": 88,
     "metadata": {},
     "output_type": "execute_result"
    }
   ],
   "source": [
    "new_dict['name'][-1]"
   ]
  },
  {
   "cell_type": "code",
   "execution_count": 89,
   "id": "31688469-c9ac-4abc-8a96-b7a0878ee57f",
   "metadata": {},
   "outputs": [
    {
     "data": {
      "text/plain": [
       "'Delhi'"
      ]
     },
     "execution_count": 89,
     "metadata": {},
     "output_type": "execute_result"
    }
   ],
   "source": [
    "new_dict['city'][-2]"
   ]
  },
  {
   "cell_type": "code",
   "execution_count": 91,
   "id": "517b2878-25b9-45ff-b933-692a69695166",
   "metadata": {},
   "outputs": [],
   "source": [
    "# CONVERT TO DATA-FRAME"
   ]
  },
  {
   "cell_type": "code",
   "execution_count": 92,
   "id": "804926a2-3899-4d5c-9a66-8a748dd50f95",
   "metadata": {},
   "outputs": [],
   "source": [
    "import pandas as pd"
   ]
  },
  {
   "cell_type": "code",
   "execution_count": 93,
   "id": "4a5a828d-46d2-44ef-92cd-856242884a4c",
   "metadata": {},
   "outputs": [
    {
     "data": {
      "text/html": [
       "<div>\n",
       "<style scoped>\n",
       "    .dataframe tbody tr th:only-of-type {\n",
       "        vertical-align: middle;\n",
       "    }\n",
       "\n",
       "    .dataframe tbody tr th {\n",
       "        vertical-align: top;\n",
       "    }\n",
       "\n",
       "    .dataframe thead th {\n",
       "        text-align: right;\n",
       "    }\n",
       "</style>\n",
       "<table border=\"1\" class=\"dataframe\">\n",
       "  <thead>\n",
       "    <tr style=\"text-align: right;\">\n",
       "      <th></th>\n",
       "      <th>name</th>\n",
       "      <th>age</th>\n",
       "      <th>city</th>\n",
       "    </tr>\n",
       "  </thead>\n",
       "  <tbody>\n",
       "    <tr>\n",
       "      <th>0</th>\n",
       "      <td>eric</td>\n",
       "      <td>21</td>\n",
       "      <td>Bombay</td>\n",
       "    </tr>\n",
       "    <tr>\n",
       "      <th>1</th>\n",
       "      <td>priya</td>\n",
       "      <td>22</td>\n",
       "      <td>Chennai</td>\n",
       "    </tr>\n",
       "    <tr>\n",
       "      <th>2</th>\n",
       "      <td>Kshitij</td>\n",
       "      <td>23</td>\n",
       "      <td>Pune</td>\n",
       "    </tr>\n",
       "    <tr>\n",
       "      <th>3</th>\n",
       "      <td>Vansh</td>\n",
       "      <td>24</td>\n",
       "      <td>Delhi</td>\n",
       "    </tr>\n",
       "    <tr>\n",
       "      <th>4</th>\n",
       "      <td>Rohan</td>\n",
       "      <td>25</td>\n",
       "      <td>Gujaraat</td>\n",
       "    </tr>\n",
       "  </tbody>\n",
       "</table>\n",
       "</div>"
      ],
      "text/plain": [
       "      name  age      city\n",
       "0     eric   21    Bombay\n",
       "1    priya   22   Chennai\n",
       "2  Kshitij   23      Pune\n",
       "3    Vansh   24     Delhi\n",
       "4    Rohan   25  Gujaraat"
      ]
     },
     "execution_count": 93,
     "metadata": {},
     "output_type": "execute_result"
    }
   ],
   "source": [
    "data = pd.DataFrame(new_dict)\n",
    "data"
   ]
  },
  {
   "cell_type": "code",
   "execution_count": 95,
   "id": "8e70f492-5a71-465b-b44a-4309b476f6d7",
   "metadata": {},
   "outputs": [],
   "source": [
    "new_dict = {'name':['eric','priya','Kshitij','Vansh','Rohan'], \n",
    "           'age': [21,22,23,24,25],\n",
    "           'city': ['Bombay','Chennai','Pune','Delhi','Gujaraat'],\n",
    "           'age': [31,32,33,34,35]}"
   ]
  },
  {
   "cell_type": "code",
   "execution_count": 96,
   "id": "1a2ca7a5-97ca-48e4-8ae5-93c0aa924e41",
   "metadata": {},
   "outputs": [
    {
     "data": {
      "text/html": [
       "<div>\n",
       "<style scoped>\n",
       "    .dataframe tbody tr th:only-of-type {\n",
       "        vertical-align: middle;\n",
       "    }\n",
       "\n",
       "    .dataframe tbody tr th {\n",
       "        vertical-align: top;\n",
       "    }\n",
       "\n",
       "    .dataframe thead th {\n",
       "        text-align: right;\n",
       "    }\n",
       "</style>\n",
       "<table border=\"1\" class=\"dataframe\">\n",
       "  <thead>\n",
       "    <tr style=\"text-align: right;\">\n",
       "      <th></th>\n",
       "      <th>name</th>\n",
       "      <th>age</th>\n",
       "      <th>city</th>\n",
       "    </tr>\n",
       "  </thead>\n",
       "  <tbody>\n",
       "    <tr>\n",
       "      <th>0</th>\n",
       "      <td>eric</td>\n",
       "      <td>31</td>\n",
       "      <td>Bombay</td>\n",
       "    </tr>\n",
       "    <tr>\n",
       "      <th>1</th>\n",
       "      <td>priya</td>\n",
       "      <td>32</td>\n",
       "      <td>Chennai</td>\n",
       "    </tr>\n",
       "    <tr>\n",
       "      <th>2</th>\n",
       "      <td>Kshitij</td>\n",
       "      <td>33</td>\n",
       "      <td>Pune</td>\n",
       "    </tr>\n",
       "    <tr>\n",
       "      <th>3</th>\n",
       "      <td>Vansh</td>\n",
       "      <td>34</td>\n",
       "      <td>Delhi</td>\n",
       "    </tr>\n",
       "    <tr>\n",
       "      <th>4</th>\n",
       "      <td>Rohan</td>\n",
       "      <td>35</td>\n",
       "      <td>Gujaraat</td>\n",
       "    </tr>\n",
       "  </tbody>\n",
       "</table>\n",
       "</div>"
      ],
      "text/plain": [
       "      name  age      city\n",
       "0     eric   31    Bombay\n",
       "1    priya   32   Chennai\n",
       "2  Kshitij   33      Pune\n",
       "3    Vansh   34     Delhi\n",
       "4    Rohan   35  Gujaraat"
      ]
     },
     "execution_count": 96,
     "metadata": {},
     "output_type": "execute_result"
    }
   ],
   "source": [
    "data1 = pd.DataFrame(new_dict)\n",
    "data1"
   ]
  },
  {
   "cell_type": "code",
   "execution_count": 97,
   "id": "c2c5a06a-c99d-4c15-b2f7-ff1e4dbd62d2",
   "metadata": {},
   "outputs": [
    {
     "data": {
      "text/plain": [
       "(5, 3)"
      ]
     },
     "execution_count": 97,
     "metadata": {},
     "output_type": "execute_result"
    }
   ],
   "source": [
    "data1.shape"
   ]
  },
  {
   "cell_type": "code",
   "execution_count": 98,
   "id": "ff7ef55a-acad-4558-a059-276257f53a5a",
   "metadata": {},
   "outputs": [],
   "source": [
    "m={'name':'Abc','age':21}"
   ]
  },
  {
   "cell_type": "code",
   "execution_count": 100,
   "id": "46f2312b-9ee0-4fc4-97d7-83854543f450",
   "metadata": {},
   "outputs": [
    {
     "name": "stdout",
     "output_type": "stream",
     "text": [
      "{'name': 'Abc', 'age': 25}\n"
     ]
    }
   ],
   "source": [
    "m['age']=25 # This method works as lists and dictionaries help for editing of data.\n",
    "print(m)"
   ]
  },
  {
   "cell_type": "code",
   "execution_count": 102,
   "id": "cc953b18-8c6d-465b-ac4d-1a7e6192f86a",
   "metadata": {},
   "outputs": [
    {
     "name": "stdout",
     "output_type": "stream",
     "text": [
      "{'name': 'Abc', 'age': 25, 'address': 'Mumbai'}\n"
     ]
    }
   ],
   "source": [
    "m['address'] = 'Mumbai'\n",
    "print(m)"
   ]
  },
  {
   "cell_type": "code",
   "execution_count": 103,
   "id": "7aa1ab1d-42d3-4572-bacd-ddbfc0a0ea1b",
   "metadata": {},
   "outputs": [
    {
     "data": {
      "text/plain": [
       "{'name': ['eric', 'priya', 'Kshitij', 'Vansh', 'Rohan'],\n",
       " 'age': [31, 32, 33, 34, 35],\n",
       " 'city': ['Bombay', 'Chennai', 'Pune', 'Delhi', 'Gujaraat']}"
      ]
     },
     "execution_count": 103,
     "metadata": {},
     "output_type": "execute_result"
    }
   ],
   "source": [
    "new_dict"
   ]
  },
  {
   "cell_type": "code",
   "execution_count": 104,
   "id": "4dd57cda-2f23-454c-9657-a723f211935f",
   "metadata": {},
   "outputs": [],
   "source": [
    "del new_dict['name'][2]"
   ]
  },
  {
   "cell_type": "code",
   "execution_count": 105,
   "id": "b3d47f87-76e1-47a0-8b91-550a293d4be6",
   "metadata": {},
   "outputs": [
    {
     "data": {
      "text/plain": [
       "{'name': ['eric', 'priya', 'Vansh', 'Rohan'],\n",
       " 'age': [31, 32, 33, 34, 35],\n",
       " 'city': ['Bombay', 'Chennai', 'Pune', 'Delhi', 'Gujaraat']}"
      ]
     },
     "execution_count": 105,
     "metadata": {},
     "output_type": "execute_result"
    }
   ],
   "source": [
    "new_dict"
   ]
  },
  {
   "cell_type": "code",
   "execution_count": 106,
   "id": "e0f73164-939b-40ce-bcf1-dc19b9b55a5b",
   "metadata": {},
   "outputs": [
    {
     "data": {
      "text/plain": [
       "{'name': ['eric', 'priya', 'Vansh', 'Rohan'],\n",
       " 'age': [31, 32, 33, 34, 35],\n",
       " 'city': ['Bombay', 'Chennai', 'Pune', 'Delhi', 'Telangana']}"
      ]
     },
     "execution_count": 106,
     "metadata": {},
     "output_type": "execute_result"
    }
   ],
   "source": [
    "new_dict['city'][4]='Telangana'\n",
    "new_dict"
   ]
  },
  {
   "cell_type": "code",
   "execution_count": 107,
   "id": "e13a9663-4b57-492e-8ace-2a19396f1f01",
   "metadata": {},
   "outputs": [
    {
     "data": {
      "text/plain": [
       "{'name': ['eric', 'priya', 'Vansh', 'Rohan', 'Vaibhav'],\n",
       " 'age': [31, 32, 33, 34, 35],\n",
       " 'city': ['Bombay', 'Chennai', 'Pune', 'Delhi', 'Telangana']}"
      ]
     },
     "execution_count": 107,
     "metadata": {},
     "output_type": "execute_result"
    }
   ],
   "source": [
    "new_dict['name'].append('Vaibhav')\n",
    "new_dict"
   ]
  },
  {
   "cell_type": "code",
   "execution_count": 108,
   "id": "f02fe189-aceb-450c-89ff-573443b4b906",
   "metadata": {},
   "outputs": [
    {
     "data": {
      "text/plain": [
       "{'name': ['eric', 'priya', 'Vansh', 'Vinay', 'Rohan', 'Vaibhav'],\n",
       " 'age': [31, 32, 33, 34, 35],\n",
       " 'city': ['Bombay', 'Chennai', 'Pune', 'Delhi', 'Telangana']}"
      ]
     },
     "execution_count": 108,
     "metadata": {},
     "output_type": "execute_result"
    }
   ],
   "source": [
    "new_dict['name'].insert(3,'Vinay')\n",
    "new_dict"
   ]
  },
  {
   "cell_type": "code",
   "execution_count": 109,
   "id": "043ec2e9-3762-4cba-a2c7-359945d3b05b",
   "metadata": {},
   "outputs": [],
   "source": [
    "# METHODS OD DICTIONARY"
   ]
  },
  {
   "cell_type": "code",
   "execution_count": 110,
   "id": "166aa9c0-0b56-4da9-9c44-4c56245683a0",
   "metadata": {},
   "outputs": [],
   "source": [
    "# Clear"
   ]
  },
  {
   "cell_type": "code",
   "execution_count": 111,
   "id": "7c5e351d-fcfc-438e-8e6d-8c06ae9b5371",
   "metadata": {},
   "outputs": [
    {
     "data": {
      "text/plain": [
       "{1: 'python', 2: 'java', 3: 'c++', 4: 'php'}"
      ]
     },
     "execution_count": 111,
     "metadata": {},
     "output_type": "execute_result"
    }
   ],
   "source": [
    "dict1 = {1:'python',2:'java',3:'c++',4:'php'}\n",
    "dict1"
   ]
  },
  {
   "cell_type": "code",
   "execution_count": 112,
   "id": "c2dc9f22-c95a-4bbd-9afd-b86ec52af189",
   "metadata": {},
   "outputs": [
    {
     "data": {
      "text/plain": [
       "{}"
      ]
     },
     "execution_count": 112,
     "metadata": {},
     "output_type": "execute_result"
    }
   ],
   "source": [
    "dict1.clear()\n",
    "dict1"
   ]
  },
  {
   "cell_type": "code",
   "execution_count": 115,
   "id": "2d6127ef-007d-45d2-8924-8d0902482ad6",
   "metadata": {},
   "outputs": [
    {
     "name": "stdout",
     "output_type": "stream",
     "text": [
      "{1: 'python', 2: 'java', 3: 'c++', 4: 'php'}\n"
     ]
    }
   ],
   "source": [
    "dict1 = {1:'python',2:'java',3:'c++',4:'php'}\n",
    "dict2 = dict1.copy()\n",
    "print(dict2)"
   ]
  },
  {
   "cell_type": "code",
   "execution_count": 116,
   "id": "76fedd6f-4a3e-4ff6-814d-3033646b003d",
   "metadata": {},
   "outputs": [
    {
     "data": {
      "text/plain": [
       "{1: 'python', 2: 'java', 3: 'c++', 4: 'php'}"
      ]
     },
     "execution_count": 116,
     "metadata": {},
     "output_type": "execute_result"
    }
   ],
   "source": [
    "dict2"
   ]
  },
  {
   "cell_type": "code",
   "execution_count": 117,
   "id": "1e19a043-1928-4ce4-abf4-e31426420584",
   "metadata": {},
   "outputs": [],
   "source": [
    "# ITEM"
   ]
  },
  {
   "cell_type": "code",
   "execution_count": 1,
   "id": "700fcf87-746f-4968-8f7d-5f98b3b76b33",
   "metadata": {},
   "outputs": [
    {
     "name": "stdout",
     "output_type": "stream",
     "text": [
      "dict_items([(1, 'python'), (2, 'java'), (3, 'c++'), (4, 'php')])\n"
     ]
    },
    {
     "data": {
      "text/plain": [
       "4"
      ]
     },
     "execution_count": 1,
     "metadata": {},
     "output_type": "execute_result"
    }
   ],
   "source": [
    "dict1 = {1:'python',2:'java',3:'c++',4:'php'}\n",
    "print(dict1.items())\n",
    "len(dict1)"
   ]
  },
  {
   "cell_type": "code",
   "execution_count": null,
   "id": "f5aa97af-0753-4e2c-9122-e205f027111e",
   "metadata": {},
   "outputs": [],
   "source": [
    "\n"
   ]
  },
  {
   "cell_type": "code",
   "execution_count": null,
   "id": "b721f76b-5967-4821-b0ef-3a1d011402cf",
   "metadata": {},
   "outputs": [],
   "source": []
  },
  {
   "cell_type": "code",
   "execution_count": null,
   "id": "2c516b52-e47b-46f0-b363-a2e33c95b676",
   "metadata": {},
   "outputs": [],
   "source": []
  },
  {
   "cell_type": "code",
   "execution_count": null,
   "id": "36454fd4-5d1b-4011-8372-8d50535a4621",
   "metadata": {},
   "outputs": [],
   "source": []
  },
  {
   "cell_type": "code",
   "execution_count": null,
   "id": "b7df61a8-0c26-4538-b411-5196071d1f4b",
   "metadata": {},
   "outputs": [],
   "source": []
  },
  {
   "cell_type": "code",
   "execution_count": null,
   "id": "d4e344e1-b912-46d0-8c9a-8a3bb6af51e6",
   "metadata": {},
   "outputs": [],
   "source": []
  },
  {
   "cell_type": "code",
   "execution_count": null,
   "id": "19482565-43ce-4fa6-ae7d-8c3e41f0f19f",
   "metadata": {},
   "outputs": [],
   "source": []
  },
  {
   "cell_type": "code",
   "execution_count": null,
   "id": "1d5ff31f-e2b0-412c-8cef-4cb9615c2b16",
   "metadata": {},
   "outputs": [],
   "source": []
  }
 ],
 "metadata": {
  "kernelspec": {
   "display_name": "Python [conda env:base] *",
   "language": "python",
   "name": "conda-base-py"
  },
  "language_info": {
   "codemirror_mode": {
    "name": "ipython",
    "version": 3
   },
   "file_extension": ".py",
   "mimetype": "text/x-python",
   "name": "python",
   "nbconvert_exporter": "python",
   "pygments_lexer": "ipython3",
   "version": "3.13.5"
  }
 },
 "nbformat": 4,
 "nbformat_minor": 5
}
